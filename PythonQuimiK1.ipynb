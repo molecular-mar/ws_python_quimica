{
  "nbformat": 4,
  "nbformat_minor": 0,
  "metadata": {
    "colab": {
      "provenance": [],
      "authorship_tag": "ABX9TyN8OsSHS81s8fodpG2k407m",
      "include_colab_link": true
    },
    "kernelspec": {
      "name": "python3",
      "display_name": "Python 3"
    },
    "language_info": {
      "name": "python"
    }
  },
  "cells": [
    {
      "cell_type": "markdown",
      "metadata": {
        "id": "view-in-github",
        "colab_type": "text"
      },
      "source": [
        "<a href=\"https://colab.research.google.com/github/molecular-mar/ws_python_quimica/blob/main/PythonQuimiK1.ipynb\" target=\"_parent\"><img src=\"https://colab.research.google.com/assets/colab-badge.svg\" alt=\"Open In Colab\"/></a>"
      ]
    },
    {
      "cell_type": "markdown",
      "source": [
        "# ¡Bienvenido al taller Python para Química!\n",
        "\n",
        "![](https://upload.wikimedia.org/wikipedia/commons/c/c3/Python-logo-notext.svg)\n",
        "\n",
        "\n",
        "**45 Aniversario del Departamento de Química, UAM-Iztapalapa**\n",
        "\n",
        "![](https://drive.google.com/uc?id=1plp-jwWtq6rOMZDBVonAsO3fraqJeZDJ)\n",
        "\n",
        "---\n",
        "*Basado en el material creado por Charles J. Weiss.*\n",
        "\n",
        "Página del proyecto: https://weisscharlesj.github.io/SciCompforChemists/intro.html\n",
        "\n",
        "Repositorio: https://github.com/weisscharlesj/SciCompforChemists\n",
        "\n",
        "Artículo https://pubs.acs.org/doi/10.1021/acs.jchemed.0c01071\n",
        "\n",
        "---\n",
        "## ¿Por qué aprender Python?\n",
        "\n",
        "- Lenguaje de programación que puede utilizarse en Windows, Mac y Linux (Android/iOS).\n",
        "- Lenguaje interpretado: no es necesario compilar (traducir a binario) para ejecutar. Puede usarse de forma inmediata, obteniendo resultados rápidamente.\n",
        "- Es gratis 😄 y es Open Source (Código Abierto).\n",
        "- Una comunidad muy grande: muchas herramientas listas y optimizadas, y evolución constante. Soporte amplio.\n",
        "- Comunidad variada: Análisis de datos, visualización, machine learning, robótica, desarrollo web, gráficos 3D...\n",
        "---\n",
        "## ¿Qué necesitas para programar en Python?\n",
        "\n",
        "### Requisitos esenciales\n",
        "\n",
        "Hay dos cosas esenciales para programar en Python: el interprete y bibliotecas de funciones. \n",
        "El *interprete* es el programa que lee las instrucciones que escribimos y realiza lo necesario para ejecutarlas en la computadora. \n",
        "Hay muchas operaciones o funciones que ya han sido desarrolladas, y estas se encuentran agrupadas en lo que llamamos bibliotecas (las mal llamadas librerias).\n",
        "\n",
        "### Instalación en tu computadora\n",
        "\n",
        "Dependiendo de tu sistema operativo, existen muchas formas de instalar el interprete y las bibliotecas. Una forma muy utilizada es instalar *Anaconda*, que contiene el interprete, bibliotecas de uso común e incluso editores/visualizadores. Puedes encontrarlo en este [enlace](https://www.anaconda.com/products/distribution). *Advertencia:* es un archivo muy grande. Hay otras alternativas más ligeras, como *miniconda*\n",
        "\n",
        "### Libretas de Jupyter\n",
        "\n",
        "Las libretas de Jupyter (el nombre viene de Julia, Python y R) son documentos diseñados para el uso interactivo de algunos lenguajes de programación (Python, Java, R, Julia, Matlab, Octave, Scheme, Processing, Scala). Puede contener:\n",
        "* Código\n",
        "* Ecuaciones: $\\phi(\\mathbf{x})=\\frac{1}{2}e^{\\alpha x^2}$\n",
        "* Texto\n",
        "* Salida del código: texto, imágenes, gráficos.\n",
        "\n",
        "Dado esto, suele utilizarse Jupyter muy frecuentemente en ciencias, ya que puede funcionar como una especie de bitácora de laboratorio, incluyendo explicaciones y observaciones. \n",
        "\n",
        "Hay algunas características que hay que tener en cuenta:\n",
        "* La ejecución del código es interactiva\n",
        "* La ejecución puede no ser ordenada\n",
        "\n",
        "Nota: Anaconda incluye a Jupyter.\n",
        "\n",
        "### Google Colab\n",
        "\n",
        "Google ofrece ahora el servicio *en la nube* Google Colab, que permite la edición y ejecución de libretas de Jupyter desde el navegador de internet. Durante este taller usaremos Google Colab.\n",
        "\n",
        "Las ventajas de Colab:\n",
        "* Tus libretas están disponibles desde cualquier dispositivo\n",
        "* Puedes acceder a recursos de cómputo como GPUs\n",
        "\n",
        "Desventajas:\n",
        "* En la versión gratuita tienes limites en los recursos de cómputo\n",
        "* Necesitas de una conexión a internet\n"
      ],
      "metadata": {
        "id": "IVW7cPIbVQjH"
      }
    },
    {
      "cell_type": "markdown",
      "source": [
        "---\n",
        "## Exploremos algunas opciones de Google Colab\n",
        "\n",
        "* Celdas de texto (Markdown) y de código\n",
        "* Índice\n",
        "* Conexión con Drive\n",
        "* Guardar copia en Drive\n",
        "* Controles de ejecución\n",
        "* Agregar comentarios"
      ],
      "metadata": {
        "id": "G4YLiHSJlRtU"
      }
    },
    {
      "cell_type": "markdown",
      "source": [
        "---\n",
        "## Bases de programación en Python"
      ],
      "metadata": {
        "id": "XY9zbEUinKdC"
      }
    },
    {
      "cell_type": "markdown",
      "source": [
        "### Comentarios"
      ],
      "metadata": {
        "id": "hpLbKJNCnvsq"
      }
    },
    {
      "cell_type": "code",
      "source": [
        "#Esto es un comentario de Python. \n",
        "'''Esto\n",
        " también\n",
        "    es  \n",
        "              un\n",
        "  comentario de Python(?)'''"
      ],
      "metadata": {
        "id": "8YvD5lSjnvbd"
      },
      "execution_count": null,
      "outputs": []
    },
    {
      "cell_type": "code",
      "source": [
        "'''''\n",
        "   _\n",
        "  | | If you're not part\n",
        "  / \\  of the solution\n",
        " /   \\  then you must be  |\n",
        "(_____)  the precipitate. |    -Trina L. Short-\n",
        "\n",
        "'''''"
      ],
      "metadata": {
        "id": "FDE2M00LfBRL"
      },
      "execution_count": null,
      "outputs": []
    },
    {
      "cell_type": "markdown",
      "source": [
        "### Python como calculadora"
      ],
      "metadata": {
        "id": "lQM-l1JFnTaR"
      }
    },
    {
      "cell_type": "markdown",
      "source": [
        "Para ejecutar una celda, puedes:\n",
        "1. Usar el botón de Ejecución a la izquierda.\n",
        "2. Usar la opción en la pestaña Runtime.\n",
        "2. Ctrl+Enter y Shift+Enter (Prueba con Markdown y código)"
      ],
      "metadata": {
        "id": "DWdnJofdrtvV"
      }
    },
    {
      "cell_type": "code",
      "source": [
        "#Podemos realizar lo mismo que hacemos en la calculadora:\n",
        "1+1"
      ],
      "metadata": {
        "id": "2jU7WC0gnSyh"
      },
      "execution_count": null,
      "outputs": []
    },
    {
      "cell_type": "code",
      "source": [
        "#Intenta realizar distintas operaciones"
      ],
      "metadata": {
        "id": "rI68gUp0nR5Z"
      },
      "execution_count": null,
      "outputs": []
    },
    {
      "cell_type": "markdown",
      "source": [
        "Algunas operaciones disponibles: \n",
        "\n",
        "**Tabla 1** Operadores matemáticos en Python\n",
        "\n",
        "| Operador | Descripción |\n",
        "| :-------:| :---------  |\n",
        "| +  | Suma |\n",
        "| - | Resta |\n",
        "| * | Multiplicación |\n",
        "| / | División normal |\n",
        "| // | División de enteros (*floor*) |\n",
        "| ** | Potencia |\n",
        "| % | Modulo (residuo)|\n"
      ],
      "metadata": {
        "id": "-uEkAykjo63j"
      }
    },
    {
      "cell_type": "code",
      "source": [
        "#Prueba la jerarquía de operaciones. Puedes usar paréntesis como sueles hacerlo."
      ],
      "metadata": {
        "id": "oc21h4kLo21X"
      },
      "execution_count": null,
      "outputs": []
    },
    {
      "cell_type": "markdown",
      "source": [
        "Hay dos tipos principales de números en Python: de punto flotante (*float*) y enteros (*int*). Los tipo float son números reales (pueden tener una parte decimal). Los enteros no tienen parte decimal."
      ],
      "metadata": {
        "id": "XbfX7ITKsdog"
      }
    },
    {
      "cell_type": "code",
      "source": [
        "#Intenta realizar operaciones usando numeros con parte decimal y sin parte decimal"
      ],
      "metadata": {
        "id": "whkXFXnBtDiJ"
      },
      "execution_count": null,
      "outputs": []
    },
    {
      "cell_type": "markdown",
      "source": [
        "En Python no suele ser necesario preocuparnos por la distinción entre float e int. Para los casos necesarios, puedes convertir entre ambos tipos:"
      ],
      "metadata": {
        "id": "FEeFtcJWtPDh"
      }
    },
    {
      "cell_type": "code",
      "source": [
        "#Para convertir a entero\n",
        "int(4.5)"
      ],
      "metadata": {
        "id": "MRrPQP4gtbKh"
      },
      "execution_count": null,
      "outputs": []
    },
    {
      "cell_type": "code",
      "source": [
        "#Para convertir a real\n",
        "float(3)"
      ],
      "metadata": {
        "id": "UH59v-BytaYd"
      },
      "execution_count": null,
      "outputs": []
    },
    {
      "cell_type": "markdown",
      "source": [
        "### Funciones básicas"
      ],
      "metadata": {
        "id": "09qAl6D0unzE"
      }
    },
    {
      "cell_type": "markdown",
      "source": [
        "Lo que acabamos de hacer es utilizar dos **funciones**: int() y float(). Las funciones realizan una tarea predefinida, y pueden (o no) recibir un argumento (*input*) y producir un resultado (*output*), similar a lo que ocurre con $f(x)$.\n",
        "\n",
        "Hay varias funciones integradas en Python: \n",
        "\n",
        "* *abs()*: \tDevuelve el valor redondeado\n",
        "* *float()*: \tConvierte a float\n",
        "* *int()*:\tConvierte a entero\n",
        "* *list()*: Convierte en una lista\n",
        "* *len()*:\tDevuelve el tamaño\n",
        "* *max()*: \tValor máximo\n",
        "* *min()*: \tValor mínimo\n",
        "* *open()*:\tAbre un archivo\n",
        "* *print()*: Muestra el output\n",
        "* *round()*: Redondea (redondeo de banquero)\n",
        "* *str()*: \tConvierte a cuerda/texto.\n",
        "* *sum()*: \tDevuelve la suma\n",
        "* *type()*: Muestra el tipo"
      ],
      "metadata": {
        "id": "if97c7VBtwav"
      }
    },
    {
      "cell_type": "code",
      "source": [
        "# Prueba algunas de estas funciones"
      ],
      "metadata": {
        "id": "w2lSOOxPtoAs"
      },
      "execution_count": null,
      "outputs": []
    },
    {
      "cell_type": "markdown",
      "source": [
        "Hay funciones que no están por defecto en Python, pero se encuentran en bibliotecas o paquetes. Para operaciones matemáticas, una biblioteca básica es *math*."
      ],
      "metadata": {
        "id": "hXV6rvh7wRiX"
      }
    },
    {
      "cell_type": "code",
      "source": [
        "# Para cargar una biblioteca, usamos import + nombre_de_la_biblioteca\n",
        "import math"
      ],
      "metadata": {
        "id": "uryLExYqwK5m"
      },
      "execution_count": null,
      "outputs": []
    },
    {
      "cell_type": "code",
      "source": [
        "# Para usar una función de una biblioteca, debemos escribir primero el nombre\n",
        "# de la biblioteca, un punto y el nombre de la función\n",
        "math.sqrt(4)"
      ],
      "metadata": {
        "id": "M97zdJGjwwRH"
      },
      "execution_count": null,
      "outputs": []
    },
    {
      "cell_type": "code",
      "source": [
        "# Las bibliotecas también pueden contener valores constantes\n",
        "math.pi"
      ],
      "metadata": {
        "id": "-3I9Va3txCij"
      },
      "execution_count": null,
      "outputs": []
    },
    {
      "cell_type": "code",
      "source": [
        "# Para solo importar algunas funciones, facilitando ademas el uso:\n",
        "from math import sin,cos,pi"
      ],
      "metadata": {
        "id": "Q8mnRD3gxRfn"
      },
      "execution_count": null,
      "outputs": []
    },
    {
      "cell_type": "code",
      "source": [
        "sin(pi)"
      ],
      "metadata": {
        "id": "OHteNJ3GxdBf"
      },
      "execution_count": null,
      "outputs": []
    },
    {
      "cell_type": "code",
      "source": [
        "cos(pi)"
      ],
      "metadata": {
        "id": "dDgHZEpgxiuD"
      },
      "execution_count": null,
      "outputs": []
    },
    {
      "cell_type": "code",
      "source": [
        "## MALA práctica:\n",
        "#from math import *\n",
        "#Esto importa TODO lo que hay en math. Puede llevar a varios errores,\n",
        "#y disminuye la claridad del código."
      ],
      "metadata": {
        "id": "ECF6N-vMxwzL"
      },
      "execution_count": null,
      "outputs": []
    },
    {
      "cell_type": "markdown",
      "source": [
        "### Variables"
      ],
      "metadata": {
        "id": "OovChZRMxv1P"
      }
    },
    {
      "cell_type": "markdown",
      "source": [
        "En programación utilizamos **variables**, que almacenan datos para poder usarlos o modificarlos posteriormente. Las variables se almacenan en la memoria RAM de forma temporal."
      ],
      "metadata": {
        "id": "x-6leRn8xQne"
      }
    },
    {
      "cell_type": "markdown",
      "source": [],
      "metadata": {
        "id": "9vKjG8rctv8o"
      }
    },
    {
      "cell_type": "code",
      "source": [
        "# Definamos algunas variables. La sintáxis es: nombre = valor\n",
        "a = 10\n",
        "b = 5.0\n",
        "tercera = a + b\n",
        "variable_cuatro = sin(tercera)"
      ],
      "metadata": {
        "id": "WKP8orJV00pe"
      },
      "execution_count": null,
      "outputs": []
    },
    {
      "cell_type": "markdown",
      "source": [
        "Hay nombres prohibidos, ya que son palabras reservadas de Python. Si bien puede ser útil saber cuáles son, lo mejor es siempre escribir nombres de variables significativos.\n",
        "\n",
        "Existe una convención de estilo de Python (PEP). Algunas indicaciones de esta son:\n",
        "\n",
        "* Separar por un espacio variables y operadores\n",
        "* Usar snake_case: nombres de variables separados por guiones bajos.\n",
        "* Limitar el uso de números en las variables, y no utilizar números el inicio\n",
        "\n",
        "Nota: En código, procura no utilizar caractéres propios del español (acentos, ñ)."
      ],
      "metadata": {
        "id": "Q3NGNHdg1anI"
      }
    },
    {
      "cell_type": "code",
      "source": [
        "# Buen ejemplo\n",
        "\n",
        "moles_en_mol = 5\n",
        "volumen_en_L = 4\n",
        "concentracion = moles_en_mol / volumen_en_L"
      ],
      "metadata": {
        "id": "nRR8tqwq1NZu"
      },
      "execution_count": null,
      "outputs": []
    },
    {
      "cell_type": "code",
      "source": [
        "# Mal ejemplo\n",
        "i = 500\n",
        "j = 40\n",
        "k = i*i/j"
      ],
      "metadata": {
        "id": "ahErAZ8n0-pC"
      },
      "execution_count": null,
      "outputs": []
    },
    {
      "cell_type": "code",
      "source": [
        "# Has pruebas con asignación de variables"
      ],
      "metadata": {
        "id": "nOX4fgC32o5Q"
      },
      "execution_count": null,
      "outputs": []
    },
    {
      "cell_type": "code",
      "source": [
        "# ¿Qué pasa cuando asignas variables como otras variables?"
      ],
      "metadata": {
        "id": "6B3DoB8Z2rvc"
      },
      "execution_count": null,
      "outputs": []
    },
    {
      "cell_type": "code",
      "source": [
        "# ¿Y si modificas estas variables?"
      ],
      "metadata": {
        "id": "2rFSbys828xE"
      },
      "execution_count": null,
      "outputs": []
    },
    {
      "cell_type": "code",
      "source": [
        "# ¿Asignar una variable a si misma?"
      ],
      "metadata": {
        "id": "USstmxsK2_yV"
      },
      "execution_count": null,
      "outputs": []
    },
    {
      "cell_type": "markdown",
      "source": [
        "### Trabajando con texto"
      ],
      "metadata": {
        "id": "UoGzWlC8RsT3"
      }
    },
    {
      "cell_type": "code",
      "source": [
        "# Puese usar comillas simples o dobles\n",
        "\"Hola UAM-I\""
      ],
      "metadata": {
        "id": "4qmqChIHR445"
      },
      "execution_count": null,
      "outputs": []
    },
    {
      "cell_type": "code",
      "source": [
        "type(\"Hola\")"
      ],
      "metadata": {
        "id": "NbguqBVuSYzG"
      },
      "execution_count": null,
      "outputs": []
    },
    {
      "cell_type": "code",
      "source": [
        "texto = \"El número de Avogadro:\"\n",
        "texto"
      ],
      "metadata": {
        "id": "5rbLHJ6PSkEh"
      },
      "execution_count": null,
      "outputs": []
    },
    {
      "cell_type": "code",
      "source": [
        "# Hay operadores aritmeticos que efectuan operaciones sobre strings\n",
        "texto + '6.022x10^23'"
      ],
      "metadata": {
        "id": "SxqnTOtkSxbQ"
      },
      "execution_count": null,
      "outputs": []
    },
    {
      "cell_type": "code",
      "source": [
        "# Guardemos esta constante\n",
        "n_avogadro = 6.022*10**23\n",
        "n_avogadro"
      ],
      "metadata": {
        "id": "RtLQbA8rTDCs"
      },
      "execution_count": null,
      "outputs": []
    },
    {
      "cell_type": "code",
      "source": [
        "len(texto)"
      ],
      "metadata": {
        "id": "nAN37rJoS-W9"
      },
      "execution_count": null,
      "outputs": []
    },
    {
      "cell_type": "code",
      "source": [
        "# print nos permite imprimir la salida sin importar la posición.\n",
        "# ¿n_avogadro se imprime?\n",
        "n_avogadro\n",
        "len(texto)"
      ],
      "metadata": {
        "id": "x4zKiGOgTg39"
      },
      "execution_count": null,
      "outputs": []
    },
    {
      "cell_type": "code",
      "source": [
        "# Dos formas de usar print con strings y números. ¿Diferencias?\n",
        "print(texto + str(n_avogadro))\n",
        "print(texto, n_avogadro)"
      ],
      "metadata": {
        "id": "u-2VNKONUOIk"
      },
      "execution_count": null,
      "outputs": []
    },
    {
      "cell_type": "markdown",
      "source": [
        "### Métodos de Strings\n",
        "Un método es una función que funciona sobre un tipo específico de objeto. Son *llamados* utilizando: *.metodo()* después de la variable/objeto."
      ],
      "metadata": {
        "id": "FwhWB67cUpEk"
      }
    },
    {
      "cell_type": "code",
      "source": [
        "# Para strings hay varios métodos. Veamos algunos:\n",
        "cita = 'anyone who has never made a mistake has never tried anything new.'\n",
        "cita.capitalize()"
      ],
      "metadata": {
        "id": "-FlhSHn5Vu_I"
      },
      "execution_count": null,
      "outputs": []
    },
    {
      "cell_type": "code",
      "source": [
        "# Algunos métodos actuan sobre el objeto, pero no lo modifican.\n",
        "# Ante la duda, lo mejor es revisar siempre.\n",
        "cita"
      ],
      "metadata": {
        "id": "ukrQlVHIWIIO"
      },
      "execution_count": null,
      "outputs": []
    },
    {
      "cell_type": "code",
      "source": [
        "cita_mayuscula = cita.capitalize()\n",
        "print(cita_mayuscula.center(100))\n",
        "print('-Albert Einstein'.rjust(100))"
      ],
      "metadata": {
        "id": "Q5v3l-jlWrn7"
      },
      "execution_count": null,
      "outputs": []
    },
    {
      "cell_type": "markdown",
      "source": [
        "### Texto con formato"
      ],
      "metadata": {
        "id": "SyEqoabUXkjB"
      }
    },
    {
      "cell_type": "code",
      "source": [
        "# Dos opciones (entre otras):\n",
        "# 1- Método format\n",
        "'Aquel {} neutralizó aquella {}'.format('ácido', 'base')"
      ],
      "metadata": {
        "id": "D6Egk5ZYXpuY"
      },
      "execution_count": null,
      "outputs": []
    },
    {
      "cell_type": "code",
      "source": [
        "# 2-f-strings\n",
        "compuesto_1 = 'ácido'\n",
        "compuesto_2 = 'base'\n",
        "print(f'Aquel {compuesto_1} neutralizo aquella {compuesto_2}')"
      ],
      "metadata": {
        "id": "jA2okADLYdJP"
      },
      "execution_count": null,
      "outputs": []
    },
    {
      "cell_type": "markdown",
      "source": [
        "## Reto 1: Escribe un programa para imprimir el número de moléculas que hay en 25 mL una solución 45.18 Molar (mol/L) (asumir una sola especie en solución). "
      ],
      "metadata": {
        "id": "Aiq6YfzTRzwH"
      }
    },
    {
      "cell_type": "code",
      "source": [
        "# Pista 1: Recuerda que ya definimos el número de Avogadro en una variable"
      ],
      "metadata": {
        "id": "MLLICdOAZGXR"
      },
      "execution_count": null,
      "outputs": []
    },
    {
      "cell_type": "markdown",
      "source": [
        "### Un poco de lógica\n",
        "\n",
        "Otro tipo de objeto son los booleanos, y solo pueden tomar dos valores posibles: Cierto (True) o Falso (False).\n",
        "\n",
        "Hay operaciones de comparación que devuelven este tipo de objetos."
      ],
      "metadata": {
        "id": "zWFzzb9FZix7"
      }
    },
    {
      "cell_type": "code",
      "source": [
        "# El operador == compara igualdad (es igual a)\n",
        "pH_neutro = 7.0\n",
        "6.0 == pH_neutro"
      ],
      "metadata": {
        "id": "3pcAWHeMbi-T"
      },
      "execution_count": null,
      "outputs": []
    },
    {
      "cell_type": "code",
      "source": [
        "# Los operadores < y > comparan si es menor o mayor que \n",
        "n_avogadro > 1000000"
      ],
      "metadata": {
        "id": "Ziv81-LYbs-a"
      },
      "execution_count": null,
      "outputs": []
    },
    {
      "cell_type": "code",
      "source": [
        "# Los operadores <= y >= son comparadores inclusivos\n",
        "print(7 < 7.0)\n",
        "print(7 <= 7.0) #menor igual a"
      ],
      "metadata": {
        "id": "UMl6drt9cZRG"
      },
      "execution_count": null,
      "outputs": []
    },
    {
      "cell_type": "code",
      "source": [
        "# El operador != compara desigualdad\n",
        "print(1234!=1234.0) #no es igual a/es distinto de "
      ],
      "metadata": {
        "id": "QpA7t0vDc7pL"
      },
      "execution_count": null,
      "outputs": []
    },
    {
      "cell_type": "code",
      "source": [
        "# Los operadores is y is not verifican identidad\n",
        "print(963 is 963.0)"
      ],
      "metadata": {
        "id": "H-_bIZ6ucBTj"
      },
      "execution_count": null,
      "outputs": []
    },
    {
      "cell_type": "markdown",
      "source": [
        "También podemos hacer operaciones lógicas compuestas:"
      ],
      "metadata": {
        "id": "die801mZeIMs"
      }
    },
    {
      "cell_type": "code",
      "source": [
        "# El operador and verifica que ambas expresiones sean ciertas\n",
        "True and True"
      ],
      "metadata": {
        "id": "Q-QxvsW_drsu"
      },
      "execution_count": null,
      "outputs": []
    },
    {
      "cell_type": "code",
      "source": [
        "# El operador or verifica que al menos una sea cierta\n",
        "True or False"
      ],
      "metadata": {
        "id": "d2HNiziBeU-T"
      },
      "execution_count": null,
      "outputs": []
    },
    {
      "cell_type": "code",
      "source": [
        "# El operador not invierte el resultado de una expresión\n",
        "not True"
      ],
      "metadata": {
        "id": "k-qqCLeZeTCI"
      },
      "execution_count": null,
      "outputs": []
    },
    {
      "cell_type": "code",
      "source": [
        "# Agrega un not para que la siguiente expresión regrese False\n",
        "8 > 3 or 8 < 2"
      ],
      "metadata": {
        "id": "Uwz4i6jeexZc"
      },
      "execution_count": null,
      "outputs": []
    },
    {
      "cell_type": "code",
      "source": [
        "# 1 y 0 pueden ser equivalentes a True y False\n",
        "print(1 and 0)\n",
        "print(bool(1))\n",
        "print(not 1)"
      ],
      "metadata": {
        "id": "BmVVU595e09U"
      },
      "execution_count": null,
      "outputs": []
    },
    {
      "cell_type": "markdown",
      "source": [
        "### Prueba de inclusión\n",
        "\n",
        "Podemos comprobar si en una string se encuentra otra string."
      ],
      "metadata": {
        "id": "K2YiFb4UfjQy"
      }
    },
    {
      "cell_type": "code",
      "source": [
        "comp1 = 'Co(NH3)6'\n",
        "comp2 = 'Ni(H2O)6'\n",
        "'Ni' in comp1"
      ],
      "metadata": {
        "id": "1hQAvZHifTVf"
      },
      "execution_count": null,
      "outputs": []
    },
    {
      "cell_type": "markdown",
      "source": [
        "### Condiciones\n",
        "\n",
        "Las operaciones lógicas que realizamos nos son útiles para controlar que partes de nuestro programa se ejecutan y cuáles no. Para ello usaremos **if**:"
      ],
      "metadata": {
        "id": "a7Pe3jnEgD3I"
      }
    },
    {
      "cell_type": "code",
      "source": [
        "# Cambia el pH para que se imprima el siguiente mensaje\n",
        "pH = 0.0\n",
        "if pH > 7:\n",
        "    print('La solución es básica.')\n",
        "    print('Neutralizar con ácido.')"
      ],
      "metadata": {
        "id": "kR-oM0S-f6B8"
      },
      "execution_count": null,
      "outputs": []
    },
    {
      "cell_type": "markdown",
      "source": [
        "* Es importante notar que Python utiliza 4 (o 2) espacios para definir bloques especiales de código. \n",
        "* Después de un if, si se cumple la condición, se ejecuta el código que está *identado* con 4 espacios.\n",
        "* Si no se cumple, continua ejecutando el resto de código no identado."
      ],
      "metadata": {
        "id": "FfdJN2lcgyWH"
      }
    },
    {
      "cell_type": "code",
      "source": [
        "if False:\n",
        "    print('Esto no se va a imprimir')\n",
        "print('Esto siempre se imprime')"
      ],
      "metadata": {
        "id": "Py_Yyq51gr6I"
      },
      "execution_count": null,
      "outputs": []
    },
    {
      "cell_type": "markdown",
      "source": [
        "Para evaluar algo si la condición de if es falsa utilizamos **else**:"
      ],
      "metadata": {
        "id": "tO8cUv8nh1QB"
      }
    },
    {
      "cell_type": "code",
      "source": [
        "pH=12.0\n",
        "if pH == 7:\n",
        "    print('La solución es neutra.')\n",
        "else:\n",
        "    print('La solución no es neutra.')"
      ],
      "metadata": {
        "id": "HZl6DtUnhv6R"
      },
      "execution_count": null,
      "outputs": []
    },
    {
      "cell_type": "markdown",
      "source": [
        "Para agregar condiciones podemos usar elif:"
      ],
      "metadata": {
        "id": "0SvLS1p1iKqj"
      }
    },
    {
      "cell_type": "code",
      "source": [
        "if pH == 7:\n",
        "    print('La solución es neutra.')\n",
        "elif pH > 7:\n",
        "    print('La solución es básica.')\n",
        "else:\n",
        "    print('La solución es ácida.')"
      ],
      "metadata": {
        "id": "A2694o-GiAOr"
      },
      "execution_count": null,
      "outputs": []
    },
    {
      "cell_type": "markdown",
      "source": [
        "### Listas y tuplas\n",
        "\n",
        "Podemos crear objetos que contengan más de un valor. Para ello podemos usar listas y tuplas."
      ],
      "metadata": {
        "id": "7fjV2f8hisb1"
      }
    },
    {
      "cell_type": "code",
      "source": [
        "# Ejemplo de una lista:\n",
        "masas = [1.01, 4.00, 6.94, 9.01, 10.81, 12.01]\n",
        "masas"
      ],
      "metadata": {
        "id": "wwiEAZ7cilFb"
      },
      "execution_count": null,
      "outputs": []
    },
    {
      "cell_type": "code",
      "source": [
        "# Ejemplo de una tupla:\n",
        "energia_orbitales = (-2.18e-18, -5.45e-19, -2.42e-19, -1.36e-19, -8.72e-20)\n",
        "energia_orbitales"
      ],
      "metadata": {
        "id": "eYjz-4FLi9oE"
      },
      "execution_count": null,
      "outputs": []
    },
    {
      "cell_type": "code",
      "source": [
        "# Pueden combinarse tipos de objetos (no recomendado)\n",
        "electronegatividades = [2.1, 'NA', 1.0, 1.5, 2.0, 2.5]"
      ],
      "metadata": {
        "id": "eBMQgTRqjRVY"
      },
      "execution_count": null,
      "outputs": []
    },
    {
      "cell_type": "markdown",
      "source": [
        "### Índices y slicing\n",
        "\n",
        "Los elementos de las listas tienen una posición asignada o índice, que podemos utilizar para usarlos o modificarlos."
      ],
      "metadata": {
        "id": "nEXi6mvtj0ce"
      }
    },
    {
      "cell_type": "code",
      "source": [
        "# Los índices siempre empiezan en 0\n",
        "print(f'''MM H: {masas[0]}\n",
        "MM He: {masas[1]}\n",
        "MM Li: {masas[2]}''')"
      ],
      "metadata": {
        "id": "CevTuJmnkO4s"
      },
      "execution_count": null,
      "outputs": []
    },
    {
      "cell_type": "code",
      "source": [
        "# En python podemos usar índices negativos para acceder a los últimos elementos\n",
        "print(f'MM C: {masas[-1]}')"
      ],
      "metadata": {
        "id": "NuYNiWDDkipj"
      },
      "execution_count": null,
      "outputs": []
    },
    {
      "cell_type": "code",
      "source": [
        "# Los strings pueden pensarse como listas de letras\n",
        "universidad = 'UAM-Iztapalapa'\n",
        "universidad[-2]"
      ],
      "metadata": {
        "id": "4EW99VRIlPu2"
      },
      "execution_count": null,
      "outputs": []
    },
    {
      "cell_type": "markdown",
      "source": [
        "Podemos acceder a *rebanadas* de una lista usando slicing:"
      ],
      "metadata": {
        "id": "8ONAAF7DlmPk"
      }
    },
    {
      "cell_type": "code",
      "source": [
        "# Para definir una rebanada, usamos :. Nota que el segundo índice no es inclusivo.\n",
        "masas[1:3]"
      ],
      "metadata": {
        "id": "5rCMjZv5lkeZ"
      },
      "execution_count": null,
      "outputs": []
    },
    {
      "cell_type": "code",
      "source": [
        "# Si no definimos uno de los índices en la rebanada, se consideran todos los \n",
        "# elementos del lado omitido\n",
        "print(masas[2:])\n",
        "print(universidad[:3])\n",
        "print(electronegatividades[:])"
      ],
      "metadata": {
        "id": "Lq-APgwLlwei"
      },
      "execution_count": null,
      "outputs": []
    },
    {
      "cell_type": "code",
      "source": [
        "# Podemos cambiar los pasos en la rebanada, agregando otro :\n",
        "print(masas[1::2])"
      ],
      "metadata": {
        "id": "sfQiPjo5nqXx"
      },
      "execution_count": null,
      "outputs": []
    },
    {
      "cell_type": "code",
      "source": [
        "# Podemos modificar los elementos de una lista\n",
        "tamales = ['mole', 'verde', 'dulce', 'rajas','chapulines']\n",
        "tamales[-1] = 'carnitas'\n",
        "tamales"
      ],
      "metadata": {
        "id": "AEnh9edXmFxs"
      },
      "execution_count": null,
      "outputs": []
    },
    {
      "cell_type": "code",
      "source": [
        "# Las tuplas no pueden modificarse luego de crearse\n",
        "print(energia_orbitales[1])\n",
        "energia_orbitales[1] = 0.0"
      ],
      "metadata": {
        "id": "KbsEa4h8n9f7"
      },
      "execution_count": null,
      "outputs": []
    },
    {
      "cell_type": "markdown",
      "source": [
        "### Algunos métodos de listas"
      ],
      "metadata": {
        "id": "NwVVzBR7n52V"
      }
    },
    {
      "cell_type": "markdown",
      "source": [
        "Varios de estos métodos si modifican al objeto directamente. "
      ],
      "metadata": {
        "id": "eb39Sa8jomSj"
      }
    },
    {
      "cell_type": "code",
      "source": [
        "# Podemos ordenar usando sort\n",
        "masas = [4.00, 1.01, 6.94, 14.01, 10.81, 12.01, 9.01]\n",
        "masas.sort()\n",
        "masas"
      ],
      "metadata": {
        "id": "Rhkwh4mJnIHJ"
      },
      "execution_count": null,
      "outputs": []
    },
    {
      "cell_type": "code",
      "source": [
        "#Para invertir el orden usamos reverse\n",
        "masas.reverse()\n",
        "masas"
      ],
      "metadata": {
        "id": "Eyu5mIlbqZyK"
      },
      "execution_count": null,
      "outputs": []
    },
    {
      "cell_type": "code",
      "source": [
        "# Podemos contar cuantas veces aparece un elemento con count\n",
        "solventes = ['acetona','agua','benceno','agua','THF']\n",
        "solventes.count('agua')"
      ],
      "metadata": {
        "id": "IvqTOPuCoUv8"
      },
      "execution_count": null,
      "outputs": []
    },
    {
      "cell_type": "code",
      "source": [
        "# Para encontrar el índice en el que aparece por primera ocasión un elemento, usamos index\n",
        "solventes.index('agua')"
      ],
      "metadata": {
        "id": "SZAiv1aDpyM0"
      },
      "execution_count": null,
      "outputs": []
    },
    {
      "cell_type": "code",
      "source": [
        "# Para agregar un elemento al final, utilizamos append\n",
        "solventes.append('cloroformo')\n",
        "solventes"
      ],
      "metadata": {
        "id": "kM4nCBsIq9Lj"
      },
      "execution_count": null,
      "outputs": []
    },
    {
      "cell_type": "code",
      "source": [
        "# Para agregar varios de una vez, usamos extend. Debemos dar una lista\n",
        "solventes.extend(['benceno','etanol'])\n",
        "solventes"
      ],
      "metadata": {
        "id": "hAQTg0Z7rQEw"
      },
      "execution_count": null,
      "outputs": []
    },
    {
      "cell_type": "code",
      "source": [
        "# Intenta:\n",
        "# * Usar append con una lista.\n",
        "# * Vuelve a ejecutar las celdas de arriba."
      ],
      "metadata": {
        "id": "ydLwx41grs9F"
      },
      "execution_count": null,
      "outputs": []
    },
    {
      "cell_type": "markdown",
      "source": [
        "### Diccionarios\n",
        "\n",
        "Son objetos que tienen valores y llaves, de una forma similar a como un diccionario conecta una palabra (llave) con una definición (valor).\n",
        "\n",
        "Los diccionarios permiten tener acceso a valores almacenados sin conocer el orden en el que están almacenados.\n",
        "\n",
        "Por ejemplo, un diccionario con masas atómicas:"
      ],
      "metadata": {
        "id": "cdjQ3CO2fz8t"
      }
    },
    {
      "cell_type": "code",
      "source": [
        "masas_atomicas = {'H':1.01, 'He':4.00, 'Li':6.94, 'Be':9.01,\n",
        "      'B':10.81, 'C':12.01, 'N':14.01, 'O':16.00,\n",
        "      'F':19.00, 'Ne':20.18}"
      ],
      "metadata": {
        "id": "Prc4AQ1WfyvS"
      },
      "execution_count": null,
      "outputs": []
    },
    {
      "cell_type": "code",
      "source": [
        "# Accedemos al valor usando su llave\n",
        "masas_atomicas['C']"
      ],
      "metadata": {
        "id": "_anfR4j3hWhU"
      },
      "execution_count": null,
      "outputs": []
    },
    {
      "cell_type": "code",
      "source": [
        "# Para ver que llaves hay\n",
        "masas_atomicas.keys()"
      ],
      "metadata": {
        "id": "-IKRwpRihhHm"
      },
      "execution_count": null,
      "outputs": []
    },
    {
      "cell_type": "code",
      "source": [
        "# Para agregar un nuevo elemento\n",
        "masas_atomicas['Na'] = 22.99\n",
        "masas_atomicas"
      ],
      "metadata": {
        "id": "BSvb2KHpiCAN"
      },
      "execution_count": null,
      "outputs": []
    },
    {
      "cell_type": "code",
      "source": [
        "# Otra forma de definir un diccionario\n",
        "dict([('H',1), ('He',2), ('Li',3)]) #Pueden usarse listas o tuplas"
      ],
      "metadata": {
        "id": "iLGqWJtWiP60"
      },
      "execution_count": null,
      "outputs": []
    },
    {
      "cell_type": "markdown",
      "source": [
        "### Rangos"
      ],
      "metadata": {
        "id": "6y_HW3S4r7JZ"
      }
    },
    {
      "cell_type": "markdown",
      "source": [
        "Podemos definir rangos de valores usando range(). Esto devuelve un objeto de tipo *range*. Si queremos una lista, debemos usar list(). "
      ],
      "metadata": {
        "id": "mkDe304GsEtZ"
      }
    },
    {
      "cell_type": "code",
      "source": [
        "rango_diez = range(10)\n",
        "rango_diez"
      ],
      "metadata": {
        "id": "a0nkr98hsD1W"
      },
      "execution_count": null,
      "outputs": []
    },
    {
      "cell_type": "code",
      "source": [
        "# Para tener una lista\n",
        "rango_diez = list(rango_diez)\n",
        "rango_diez"
      ],
      "metadata": {
        "id": "BniOxgMYtRGl"
      },
      "execution_count": null,
      "outputs": []
    },
    {
      "cell_type": "code",
      "source": [
        "# Podemos indicar desde que valor empezar\n",
        "list(range(3,10))"
      ],
      "metadata": {
        "id": "jONS4NjstVBl"
      },
      "execution_count": null,
      "outputs": []
    },
    {
      "cell_type": "code",
      "source": [
        "# También podemos indicar el tamaño del paso\n",
        "list(range(3,11,2))"
      ],
      "metadata": {
        "id": "GQ4QdFkJtywY"
      },
      "execution_count": null,
      "outputs": []
    },
    {
      "cell_type": "code",
      "source": [
        "# De reversa\n",
        "list(range(11,3,-1))"
      ],
      "metadata": {
        "id": "yqclEaGst36N"
      },
      "execution_count": null,
      "outputs": []
    },
    {
      "cell_type": "markdown",
      "source": [
        "### Ciclos"
      ],
      "metadata": {
        "id": "dbBVkujNuS9j"
      }
    },
    {
      "cell_type": "markdown",
      "source": [
        "Para poder realizar instrucciones de forma repetitiva podemos utilizar ciclos. Hay tipos dos principales: ciclos *for* y *while*"
      ],
      "metadata": {
        "id": "mrpNLNaRuU-h"
      }
    },
    {
      "cell_type": "code",
      "source": [
        "# Ejemplo de for\n",
        "for valor in [4, 6, 2]:\n",
        "    print(2 * valor)"
      ],
      "metadata": {
        "id": "2GghxsAtuGRb"
      },
      "execution_count": null,
      "outputs": []
    },
    {
      "cell_type": "code",
      "source": [
        "# Intenta lo siguiente en el bloque anterior:\n",
        "# * Imprime al final del ciclo for la variable valor\n",
        "# * Define dentro del ciclo una variable nuevo_valor, igual a 2 * valor\n",
        "# * Intenta imprimir la variable nuevo_valor al final del for"
      ],
      "metadata": {
        "id": "_S0cvXJmu2kv"
      },
      "execution_count": null,
      "outputs": []
    },
    {
      "cell_type": "code",
      "source": [
        "# Podemos modificar/llenar arreglos usando el ciclo for\n",
        "numeros = [1, 2, 3, 4, 5, 6]  \n",
        "cuadrados = []  # lista vacía\n",
        "for numero in numeros:\n",
        "  cuadrados.append(numero**2)\n",
        "cuadrados # ¿Qué pasa si vuelves a ejecutar esta celda?"
      ],
      "metadata": {
        "id": "OYu-H4COvuGY"
      },
      "execution_count": null,
      "outputs": []
    },
    {
      "cell_type": "markdown",
      "source": [
        "Podemos generar las longitudes de onda ($\\lambda$) en la serie de Balmer (emisiones del átomo de hidrógeno cuando un electrón transita desde un nivel n ≥ 3 a n = 2 ) usando la ecuación ($R_{\\infty}$ es la constante de Rydberg (1.097 $\\times$ 10$^{-2}$ nm$^{-1}$) y $n_i$  es el número cuántico principal inicial.\n",
        "\n",
        "\n",
        "$$ \\frac{1}{\\lambda} = R_{\\infty} \\left( \\frac{1}{4} - \\frac{1}{n_i^2} \\right) $$"
      ],
      "metadata": {
        "id": "nrhFVyK6wawf"
      }
    },
    {
      "cell_type": "code",
      "source": [
        "# Es muy común usar range en ciclos for:\n",
        "for n in range(3,8):\n",
        "    lam = 1 / (1.097e-2 * (0.25 - (1/n**2)))\n",
        "    print(lam)"
      ],
      "metadata": {
        "id": "7mmBGpV9wCpU"
      },
      "execution_count": null,
      "outputs": []
    },
    {
      "cell_type": "code",
      "source": [
        "# Recuerda que un string es una lista de caracteres\n",
        "for letter in 'Linus Pauling':\n",
        "    print(letter.capitalize())"
      ],
      "metadata": {
        "id": "WfC72JaTxHyo"
      },
      "execution_count": null,
      "outputs": []
    },
    {
      "cell_type": "code",
      "source": [
        "# ¿Cuánto Uranio 235 tendremos luego de 6 vidas medias?\n",
        "U235 = 183.2 # Comenzamos con estos gramos de uranio\n",
        "for x in range(6):\n",
        "    U235 = U235 / 2\n",
        "    print(str(U235) + ' g')"
      ],
      "metadata": {
        "id": "VnrrCJb5xnjp"
      },
      "execution_count": null,
      "outputs": []
    },
    {
      "cell_type": "markdown",
      "source": [
        "#### Importante.\n",
        "Cuando usamos ciclos, es importante tener condiciones que garanticen el final del ciclo. Si no, tendríamos un ciclo infinito, que puede provocar distintos tipos de problemas. Al usar *for* con listas, estamos seguros de que el ciclo es finito. En otros tipos de ciclo, hay que tener cuidado."
      ],
      "metadata": {
        "id": "ZfAPCfR5yHz4"
      }
    },
    {
      "cell_type": "markdown",
      "source": [
        "### Continue, end y pass"
      ],
      "metadata": {
        "id": "N_d_k4Ukyt8K"
      }
    },
    {
      "cell_type": "markdown",
      "source": [
        "Simulemos que titulamos 0.9 M NaOH usando incrementos de 1 mL de 1.0 M HCl. Los volumenes iniciales de NaOH y HCl son 25 mL y 0 mL respectivamente. En el for verificamos si hay más o los mismos moles de HCl como de NaOH (es decir, el punto de equivalencia). Si no, agregamos un mililitro de HCl."
      ],
      "metadata": {
        "id": "UujThm3IzBfG"
      }
    },
    {
      "cell_type": "code",
      "source": [
        "vol_OH = 35\n",
        "vol_H = 0\n",
        "\n",
        "for ml in range(1, 50):\n",
        "    vol_total = vol_OH + vol_H\n",
        "    mol_OH = 0.9 * vol_OH / 1000\n",
        "    mol_H = 1.0 * vol_H / 1000\n",
        "    if mol_H >= mol_OH:\n",
        "        break # Para terminar el ciclo for\n",
        "    else:\n",
        "        vol_H = vol_H + 1\n",
        "        \n",
        "print(f'Punto de equivalencia: {vol_H} mL de solución de HCl')"
      ],
      "metadata": {
        "id": "3yJeiLTjyAOp"
      },
      "execution_count": null,
      "outputs": []
    },
    {
      "cell_type": "code",
      "source": [
        "# ¿Se te ocurren formas de generalizar el código anterior?"
      ],
      "metadata": {
        "id": "MuWLwiEezpGl"
      },
      "execution_count": null,
      "outputs": []
    },
    {
      "cell_type": "code",
      "source": [
        "# continue 'brinca' el ciclo actual y continua al siguiente\n",
        "numeros = [1,2,3,4,5,6,7]\n",
        "for numero in numeros:\n",
        "    if numero % 2 == 1:\n",
        "        continue\n",
        "    print(math.sqrt(numero))"
      ],
      "metadata": {
        "id": "GbVS47Cf_BKu"
      },
      "execution_count": null,
      "outputs": []
    },
    {
      "cell_type": "code",
      "source": [
        "# pass no hace nada. Es útil cuando, por ejemplo, aún no sabemos que poner \n",
        "# en instrucciones que no pueden estar vacias.\n",
        "# Prueba en esta celda borrar el pass.\n",
        "pH = 5\n",
        "if pH >7:\n",
        "    print('Basic')\n",
        "else:\n",
        "    pass "
      ],
      "metadata": {
        "id": "_thtRyfc_mYX"
      },
      "execution_count": null,
      "outputs": []
    },
    {
      "cell_type": "markdown",
      "source": [
        "### Funciones"
      ],
      "metadata": {
        "id": "0QhGAbmJAW3p"
      }
    },
    {
      "cell_type": "markdown",
      "source": [
        "Podemos crear nuestras propias funciones. Una de las utilidades de programar es evitar repetir una tarea una y otra vez. Usar funciones también mantiene nuestro programa corto, y por ende más manejable. \n",
        "\n",
        "Vamos a definir una función para calcular distancia euclidiana:\n",
        "$$\\sqrt{(\\Delta x^2+ \\Delta y^2+ \\Delta z^2}$$"
      ],
      "metadata": {
        "id": "XBitVURlAiGe"
      }
    },
    {
      "cell_type": "code",
      "source": [
        "from math import sqrt"
      ],
      "metadata": {
        "id": "3Si14h6JAezL"
      },
      "execution_count": null,
      "outputs": []
    },
    {
      "cell_type": "code",
      "source": [
        "# Usamos def para definir una función. Le damos un nombre, e indicamos los \n",
        "# nombres de los argumentos\n",
        "def distancia(coordenada1, coordenada2):\n",
        "  # changes along the x, y, and z coordinates\n",
        "    dx = coordenada1[0] - coordenada2[0]\n",
        "    dy = coordenada1[1] - coordenada2[1]\n",
        "    dz = coordenada1[2] - coordenada2[2]\n",
        "\n",
        "    d = math.sqrt(dx**2 + dy**2 + dz**2)\n",
        "\n",
        "    print(f'La distancia es: {d}')"
      ],
      "metadata": {
        "id": "kDq6nd1YBYTd"
      },
      "execution_count": null,
      "outputs": []
    },
    {
      "cell_type": "code",
      "source": [
        "# Una vez definida, podemos utilizar la función\n",
        "coordenada1 = [0,0,0.5]\n",
        "coordenada2 = [0,0,-0.5]\n",
        "distancia(coordenada1,coordenada2)\n",
        "distancia([1,2,3],[2,3,3])"
      ],
      "metadata": {
        "id": "0YvgOHWdBzM8"
      },
      "execution_count": null,
      "outputs": []
    },
    {
      "cell_type": "code",
      "source": [
        "# Podemos usar return para especificar que regresa nuestra función\n",
        "def distancia2(coordenada1, coordenada2):\n",
        "  # changes along the x, y, and z coordinates\n",
        "    dx = coordenada1[0] - coordenada2[0]\n",
        "    dy = coordenada1[1] - coordenada2[1]\n",
        "    dz = coordenada1[2] - coordenada2[2]\n",
        "\n",
        "    d = math.sqrt(dx**2 + dy**2 + dz**2)\n",
        "\n",
        "    return d"
      ],
      "metadata": {
        "id": "M0lackV0CChG"
      },
      "execution_count": null,
      "outputs": []
    },
    {
      "cell_type": "code",
      "source": [
        "distancia2([1,2,3],[2,3,3])\n",
        "distancia2([1,2,3],[2,3,3])"
      ],
      "metadata": {
        "id": "KzMQZkViClxM"
      },
      "execution_count": null,
      "outputs": []
    },
    {
      "cell_type": "code",
      "source": [
        "# ¿Por qué se imprime solo un resultado?"
      ],
      "metadata": {
        "id": "mG0M1MwTCoat"
      },
      "execution_count": null,
      "outputs": []
    },
    {
      "cell_type": "code",
      "source": [
        "# Usando return podemos asignar a una variable, conservando el tipo de objeto\n",
        "b = distancia2([0,0,0],[1,1,1])\n",
        "type(b) # Intentalo usando la primera función distancia"
      ],
      "metadata": {
        "id": "tnqyOl-eC44s"
      },
      "execution_count": null,
      "outputs": []
    },
    {
      "cell_type": "code",
      "source": [
        "# Revisemos los argumentos. Definimos una función que imprime nombre de \n",
        "# isotopos\n",
        "def isotopo(protones, neutrones):\n",
        "    elementos = ('H', 'He', 'Li', 'Be', 'B', 'C', 'N', 'O', 'F', 'Ne')\n",
        "    simbolo = elementos[protones - 1]\n",
        "    masa = protones + neutrones\n",
        "    \n",
        "    print(str(masa) + simbolo)"
      ],
      "metadata": {
        "id": "00gMx8ZgDHH4"
      },
      "execution_count": null,
      "outputs": []
    },
    {
      "cell_type": "code",
      "source": [
        "# Intentemos algunas combinaciones:\n",
        "isotopo(1,2)\n",
        "isotopo(6,7)\n",
        "isotopo(7,6)"
      ],
      "metadata": {
        "id": "4M9cMrPMD3ZX"
      },
      "execution_count": null,
      "outputs": []
    },
    {
      "cell_type": "code",
      "source": [
        "# Por como definimos nuestra función, debemos respetar el orden de los \n",
        "# argumentos (protones, neutrones). "
      ],
      "metadata": {
        "id": "62LU_0SmEOFL"
      },
      "execution_count": null,
      "outputs": []
    },
    {
      "cell_type": "code",
      "source": [
        "# Podemos definir en su lugar parametros por palabras clave o keyword\n",
        "def isotopo(protones=1, neutrones=0):\n",
        "    elementos = ('H', 'He', 'Li', 'Be', 'B', 'C', 'N', 'O', 'F', 'Ne')\n",
        "    simbolo = elementos[protones - 1]\n",
        "    masa = protones + neutrones\n",
        "    \n",
        "    print(str(masa) + simbolo)"
      ],
      "metadata": {
        "id": "fhYBo7KTEdYu"
      },
      "execution_count": null,
      "outputs": []
    },
    {
      "cell_type": "code",
      "source": [
        "# Dos efectos: Ahora hay valores por defecto\n",
        "isotopo()\n",
        "# Y podemos ser específicos al dar el nombre de nuestros argumentos\n",
        "isotopo(neutrones = 7, protones = 6)"
      ],
      "metadata": {
        "id": "yRQJC6ZkD_Vz"
      },
      "execution_count": null,
      "outputs": []
    },
    {
      "cell_type": "code",
      "source": [
        "# Podemos documentar nuestras funciones usando docstrings\n",
        "def distancia(coord1, coord2):\n",
        "    '''(lista/tupla, lista/tupla) -> float\n",
        "    Toma las coordenadas cartesianas, en listas o tuplas,\n",
        "    de dos atomos y regresa la distancia entre ambos.\n",
        "    \n",
        "    distancia((1,2,3), (4,5,6)) -> 5.196152422706632\n",
        "    '''\n",
        "     \n",
        "    # Diferencias entre las coordenadas x, y, z \n",
        "    dx = coord1[0] - coord2[0]\n",
        "    dy = coord1[1] - coord2[1]\n",
        "    dz = coord1[2] - coord2[2]\n",
        "    d = math.sqrt(dx**2 + dy**2 + dz**2)\n",
        "    \n",
        "    return d"
      ],
      "metadata": {
        "id": "BrGKc0r7FEVV"
      },
      "execution_count": null,
      "outputs": []
    },
    {
      "cell_type": "code",
      "source": [
        "# Coloca el cursor sobre distancia\n",
        "distancia"
      ],
      "metadata": {
        "id": "dTIF-rT-FyKZ"
      },
      "execution_count": null,
      "outputs": []
    },
    {
      "cell_type": "markdown",
      "source": [
        "## Reto 2. Crea y prueba una función que resuelva la ecuación del Gas Ideal para la presión, dandole el volumen, temperatura y moles de gas (R = 0.08206 L·atm/mol·K) usando argumentos posicionales.\n",
        "\n",
        "* Si quisieramos contemplar el tamaño de las partículas de gas:\n",
        " \n",
        " $$P(V-nb)=nRT$$\n",
        " ¿Cómo crearías una función para esta ecuación?\n"
      ],
      "metadata": {
        "id": "OwfgCUeLGOPa"
      }
    },
    {
      "cell_type": "code",
      "source": [],
      "metadata": {
        "id": "0GG0y_UlKof0"
      },
      "execution_count": null,
      "outputs": []
    },
    {
      "cell_type": "markdown",
      "source": [
        "## Reto 3. En la siguiente celda se encuentra la secuencia de aminoacidos de la lisozima de clara de huevo\n",
        "\n",
        "Escribe una función que te indique:\n",
        "* Cuántas veces aparece un aminoácido dado\n",
        "* En dónde se encuentran estos aminoácidos (su índice)\n",
        "* Cuáles son los aminoácidos vecinos\n",
        "\n",
        "Aminoácidos:\n",
        "\n",
        "![Tabla](https://image-api.onlineeducation.center/v2/image/max-width/800/imagen/2015-12-28-05-11-58_2-png.png)"
      ],
      "metadata": {
        "id": "EZKyOY5WKnuR"
      }
    },
    {
      "cell_type": "code",
      "source": [
        "secuencia_lisozima = \"KVFGRCELAAAMKRHGLDNYRGYSLGNWVCAAKFESNFNTQATNRNTDGSTDYGILQINSRWWCNDGRTPGSRNLCNIPCSALLSSDITASVNCAKKIVSDGNGMNAWVAWRNRCKGTDVQAWIRGCRL\""
      ],
      "metadata": {
        "id": "n5hmj2bNKnFi"
      },
      "execution_count": null,
      "outputs": []
    }
  ]
}