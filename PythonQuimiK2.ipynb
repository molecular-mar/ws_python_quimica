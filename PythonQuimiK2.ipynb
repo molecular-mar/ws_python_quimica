{
  "nbformat": 4,
  "nbformat_minor": 0,
  "metadata": {
    "colab": {
      "provenance": [],
      "toc_visible": true,
      "collapsed_sections": [
        "hhmDnEzx2gQ0",
        "_BG96A-nXoKI",
        "lEtEQwqDXYvB",
        "0u-cZf5Ieo-n",
        "DKJML5k-gWav",
        "symu9dBAhMBO",
        "Y8nVyRKtiLQ-",
        "2bBjFdXctULH",
        "0NbjFKvKPLmV",
        "Ry6aQNKivUx5"
      ],
      "authorship_tag": "ABX9TyPM+vSsuHnsajYX+WrgS7Kl",
      "include_colab_link": true
    },
    "kernelspec": {
      "name": "python3",
      "display_name": "Python 3"
    },
    "language_info": {
      "name": "python"
    }
  },
  "cells": [
    {
      "cell_type": "markdown",
      "metadata": {
        "id": "view-in-github",
        "colab_type": "text"
      },
      "source": [
        "<a href=\"https://colab.research.google.com/github/molecular-mar/ws_python_quimica/blob/main/PythonQuimiK2.ipynb\" target=\"_parent\"><img src=\"https://colab.research.google.com/assets/colab-badge.svg\" alt=\"Open In Colab\"/></a>"
      ]
    },
    {
      "cell_type": "markdown",
      "source": [
        "# Python para Química, Parte 2\n",
        "\n",
        "![](https://upload.wikimedia.org/wikipedia/commons/c/c3/Python-logo-notext.svg)\n",
        "\n",
        "\n",
        "**45 Aniversario del Departamento de Química, UAM-Iztapalapa**\n",
        "\n",
        "![](https://drive.google.com/uc?id=1plp-jwWtq6rOMZDBVonAsO3fraqJeZDJ)\n",
        "\n",
        "\n",
        "### **En esta parte, exploraremos el uso de algunas de las bibliotecas más utilizadas en Python.**"
      ],
      "metadata": {
        "id": "MzEpniZNOdah"
      }
    },
    {
      "cell_type": "markdown",
      "source": [
        "# NumPy"
      ],
      "metadata": {
        "id": "hhmDnEzx2gQ0"
      }
    },
    {
      "cell_type": "markdown",
      "source": [
        "Ofrece varias herramientas para el uso de arreglos de varias dimensiones (vectores, matrices).\n",
        "\n",
        "Algunas características de NumPy\n",
        "\n",
        "* NumPy propaga operaciones a todos los valores de un arreglo/lista, sin necesidad de ciclos for.\n",
        "\n",
        "* Tiene un agran cantidad de funciones para trabajar con datos numéricos\n",
        "\n",
        "* Muchas de sus funciones son *envoltorios* de código en  C, lo que lo hace muy rápido.\n",
        "\n",
        "* Pandas usa NumPy para realizar la propagación de operaciones.\n"
      ],
      "metadata": {
        "id": "_pYYEm_T2mbd"
      }
    },
    {
      "cell_type": "code",
      "source": [
        "import numpy as np"
      ],
      "metadata": {
        "id": "HP5jkXM12fwP"
      },
      "execution_count": null,
      "outputs": []
    },
    {
      "cell_type": "markdown",
      "source": [
        "## Arreglos"
      ],
      "metadata": {
        "id": "Ehr6UbkK3k76"
      }
    },
    {
      "cell_type": "code",
      "source": [
        "arr = np.array([0, 1, 2, 3, 4, 5, 6, 7, 8, 9])\n",
        "print(2 * arr) # ¿Cómo haríamos esto usando listas?"
      ],
      "metadata": {
        "id": "-mMT0Gyl3sRz"
      },
      "execution_count": null,
      "outputs": []
    },
    {
      "cell_type": "code",
      "source": [
        "# Para crear un arreglo de numpy\n",
        "a = [0, 1, 2, 3, 4, 5, 6, 7, 8, 9]  # list\n",
        "arr = np.array(a)\n",
        "arr"
      ],
      "metadata": {
        "id": "TNuiTmIAXZfO"
      },
      "execution_count": null,
      "outputs": []
    },
    {
      "cell_type": "markdown",
      "source": [
        "### Arreglos usando secuencias"
      ],
      "metadata": {
        "id": "_BG96A-nXoKI"
      }
    },
    {
      "cell_type": "code",
      "source": [
        "# Con arange generamos secuencias como al usar range\n",
        "# arange(inicio, fin(no inclusivo), paso)\n",
        "arr = np.arange(0, 10, 0.5)\n",
        "arr"
      ],
      "metadata": {
        "id": "zpMVmKozXdzc"
      },
      "execution_count": null,
      "outputs": []
    },
    {
      "cell_type": "code",
      "source": [
        "# Con linspace debemos indicar el número de divisiones\n",
        "# linspace(inicio,fin(inclusivo),divisiones)\n",
        "arr = np.linspace(0,10, 20)\n",
        "arr"
      ],
      "metadata": {
        "id": "dqlHa4RHYFMR"
      },
      "execution_count": null,
      "outputs": []
    },
    {
      "cell_type": "code",
      "source": [
        "# Arreglos de ceros\n",
        "np.zeros((2,4))"
      ],
      "metadata": {
        "id": "rMUKjYa-Yh2O"
      },
      "execution_count": null,
      "outputs": []
    },
    {
      "cell_type": "code",
      "source": [
        "# Arreglos de unos\n",
        "np.ones(10)"
      ],
      "metadata": {
        "id": "s7-Sgl7LYlZq"
      },
      "execution_count": null,
      "outputs": []
    },
    {
      "cell_type": "code",
      "source": [
        "# Un arreglo con 3s\n",
        "arr = np.zeros((2,4))\n",
        "arr += 3\n",
        "print(arr)"
      ],
      "metadata": {
        "id": "smiTONwnYwrO"
      },
      "execution_count": null,
      "outputs": []
    },
    {
      "cell_type": "code",
      "source": [
        "# También podemos generar arreglos usando funciones\n",
        "def prod(x, y):\n",
        "    return x * y"
      ],
      "metadata": {
        "id": "fJw5RRxqZCCL"
      },
      "execution_count": null,
      "outputs": []
    },
    {
      "cell_type": "code",
      "source": [
        "np.fromfunction(prod, (3,3))"
      ],
      "metadata": {
        "id": "g7TTcHdKZJEi"
      },
      "execution_count": null,
      "outputs": []
    },
    {
      "cell_type": "markdown",
      "source": [
        "### Cambiando la forma del arreglo\n"
      ],
      "metadata": {
        "id": "lEtEQwqDXYvB"
      }
    },
    {
      "cell_type": "code",
      "source": [
        "# Para determinar la forma del arreglo, podemos usar shape y size\n",
        "matriz1 = np.ones((4,5))"
      ],
      "metadata": {
        "id": "hhcaOf7bZaID"
      },
      "execution_count": null,
      "outputs": []
    },
    {
      "cell_type": "code",
      "source": [
        "print(matriz1.size)\n",
        "print(matriz1.shape)"
      ],
      "metadata": {
        "id": "tQYE-7T8Znxy"
      },
      "execution_count": null,
      "outputs": []
    },
    {
      "cell_type": "code",
      "source": [
        "# Podemos cambiar la forma del arreglo\n",
        "array_1D = np.linspace(0, 9.5, 20)\n",
        "array_2D = np.reshape(array_1D, (4, 5))\n",
        "array_2D"
      ],
      "metadata": {
        "id": "RN0Fj4p5bLl7"
      },
      "execution_count": null,
      "outputs": []
    },
    {
      "cell_type": "code",
      "source": [
        "# Si solo sabemos una de las dimensiones esperadas,\n",
        "# podemos usar -1 en la otra dimensión.\n",
        "array_2D2 = np.reshape(array_1D, (5, -1))\n",
        "array_2D2"
      ],
      "metadata": {
        "id": "2ULGSBbBb8UJ"
      },
      "execution_count": null,
      "outputs": []
    },
    {
      "cell_type": "code",
      "source": [
        "# Para volverlo unidimensional (aplanarlo)\n",
        "array_2D.flatten()"
      ],
      "metadata": {
        "id": "LwHDcaLjcV3U"
      },
      "execution_count": null,
      "outputs": []
    },
    {
      "cell_type": "code",
      "source": [
        "# Podemos generar la transpuesta\n",
        "array_2D.T # Compara con array_2D2"
      ],
      "metadata": {
        "id": "ceo5YL-RcYt6"
      },
      "execution_count": null,
      "outputs": []
    },
    {
      "cell_type": "code",
      "source": [
        "# Vamos a unir dos arreglos\n",
        "a = np.arange(0, 5)\n",
        "b = np.arange(5, 10)"
      ],
      "metadata": {
        "id": "QKa-Kg9ccrva"
      },
      "execution_count": null,
      "outputs": []
    },
    {
      "cell_type": "markdown",
      "source": [
        "Hay varias formas de unir  arreglos:\n",
        "![](https://github.com/weisscharlesj/SciCompforChemists/raw/master/notebooks/chapter_04/img/stack.png)\n",
        "\n",
        "Para ello usaremos `np.vstack()`, `np.column_stack()`, `np.dstack()`, y `np.hstack()`."
      ],
      "metadata": {
        "id": "PcygA6pudpTM"
      }
    },
    {
      "cell_type": "code",
      "source": [
        "np.vstack((a, b))"
      ],
      "metadata": {
        "id": "7rAk1O65dJAQ"
      },
      "execution_count": null,
      "outputs": []
    },
    {
      "cell_type": "code",
      "source": [
        "np.hstack((a, b))"
      ],
      "metadata": {
        "id": "HYrC6eMGeJ9Y"
      },
      "execution_count": null,
      "outputs": []
    },
    {
      "cell_type": "code",
      "source": [
        "np.dstack((a, b))"
      ],
      "metadata": {
        "id": "3khu14WPeTCa"
      },
      "execution_count": null,
      "outputs": []
    },
    {
      "cell_type": "code",
      "source": [
        "np.column_stack((a,b))"
      ],
      "metadata": {
        "id": "Vta-fZDyeYaW"
      },
      "execution_count": null,
      "outputs": []
    },
    {
      "cell_type": "code",
      "source": [
        "# ¿Cuál es la diferencia entre dstack y column_stack?"
      ],
      "metadata": {
        "id": "LjYDvUxUeZW7"
      },
      "execution_count": null,
      "outputs": []
    },
    {
      "cell_type": "code",
      "source": [
        "# ¿Otra forma de generar el resultado de column_stack?"
      ],
      "metadata": {
        "id": "8Lf7xIkgeiDD"
      },
      "execution_count": null,
      "outputs": []
    },
    {
      "cell_type": "markdown",
      "source": [
        "### Índices en Numpy\n",
        "\n"
      ],
      "metadata": {
        "id": "0u-cZf5Ieo-n"
      }
    },
    {
      "cell_type": "code",
      "source": [
        "# Para un arreglo de una dimensión, es igual que con listas\n",
        "array_1D[5]"
      ],
      "metadata": {
        "id": "sBJZOR4Oe8G5"
      },
      "execution_count": null,
      "outputs": []
    },
    {
      "cell_type": "code",
      "source": [
        "# Para un arreglo multidimensional, podemos hacer varias cosas\n",
        "array_2D[1] # Una fila completa"
      ],
      "metadata": {
        "id": "k78ZITJNfA-0"
      },
      "execution_count": null,
      "outputs": []
    },
    {
      "cell_type": "code",
      "source": [
        "array_2D[1][0] # Un solo elemento"
      ],
      "metadata": {
        "id": "QMlDXKOffQ3p"
      },
      "execution_count": null,
      "outputs": []
    },
    {
      "cell_type": "code",
      "source": [
        "array_2D[1,0] # Equivalente"
      ],
      "metadata": {
        "id": "u26SJG6ofYvH"
      },
      "execution_count": null,
      "outputs": []
    },
    {
      "cell_type": "code",
      "source": [
        "array_2D[:,1] # Una columna"
      ],
      "metadata": {
        "id": "BP24hukwfyH9"
      },
      "execution_count": null,
      "outputs": []
    },
    {
      "cell_type": "code",
      "source": [
        "# ¿Cómo accedemos al último elemento?"
      ],
      "metadata": {
        "id": "Pc91b-migFOR"
      },
      "execution_count": null,
      "outputs": []
    },
    {
      "cell_type": "markdown",
      "source": [
        "### Operaciones vectorizadas\n"
      ],
      "metadata": {
        "id": "DKJML5k-gWav"
      }
    },
    {
      "cell_type": "code",
      "source": [
        "#Numpy incluye funciones que actúan sobre todos los elementos de los arreglos\n",
        "cuadrados = np.array([1, 4, 9, 16, 25])\n",
        "np.sqrt(cuadrados) # Esto no es posible con sqrt del paquete math"
      ],
      "metadata": {
        "id": "j2FZp8P1gdGF"
      },
      "execution_count": null,
      "outputs": []
    },
    {
      "cell_type": "code",
      "source": [
        "# Operaciones con escalares y arreglos\n",
        "3 * np.array([[5, 6], [7, 8]])"
      ],
      "metadata": {
        "id": "IKfrL-vpg0w3"
      },
      "execution_count": null,
      "outputs": []
    },
    {
      "cell_type": "code",
      "source": [
        "# Entre arreglos del mismo tamaño\n",
        "a = np.array([[1,2], [3,4]]) \n",
        "b = np.array([[5,6], [7,8]]) \n",
        "a + b # Prueba con otras operaciones"
      ],
      "metadata": {
        "id": "CsBrftPFg-Mn"
      },
      "execution_count": null,
      "outputs": []
    },
    {
      "cell_type": "markdown",
      "source": [
        "### Transmisión o Broadcasting\n",
        "\n",
        "Para lidiar con dimensiones distintas, NumPy 'clona' el arreglo de menor dimensión para igualar al de mayor dimensión."
      ],
      "metadata": {
        "id": "symu9dBAhMBO"
      }
    },
    {
      "cell_type": "code",
      "source": [
        "a = np.array([[1,2], [3,4]])\n",
        "b = np.array([2,2])\n",
        "a + b"
      ],
      "metadata": {
        "id": "IqRVKV3jg3vl"
      },
      "execution_count": null,
      "outputs": []
    },
    {
      "cell_type": "code",
      "source": [
        "# ¿Tiene sentido con la operación con el escalar?"
      ],
      "metadata": {
        "id": "9AR75Sg8hxee"
      },
      "execution_count": null,
      "outputs": []
    },
    {
      "cell_type": "code",
      "source": [
        "# No siempre es posible\n",
        "a = np.array([[1,2], [3,4]])\n",
        "b = np.array([[1,1,1], [2,2,2], [3,3,3]]) \n",
        "a + b"
      ],
      "metadata": {
        "id": "e9sqQJOJh1ai"
      },
      "execution_count": null,
      "outputs": []
    },
    {
      "cell_type": "markdown",
      "source": [
        "### Vectorizando otras funciones"
      ],
      "metadata": {
        "id": "Y8nVyRKtiLQ-"
      }
    },
    {
      "cell_type": "code",
      "source": [
        "def velocidad(k, conc):\n",
        "    '''\n",
        "    Calcula la velocidad de una reacción de primer orden\n",
        "    '''\n",
        "    return k * conc"
      ],
      "metadata": {
        "id": "_S0TxeLCiNf1"
      },
      "execution_count": null,
      "outputs": []
    },
    {
      "cell_type": "code",
      "source": [
        "concentraciones = [0.1, 0.5, 1.0, 1.5, 2.0]"
      ],
      "metadata": {
        "id": "JdyZgh9jimXG"
      },
      "execution_count": null,
      "outputs": []
    },
    {
      "cell_type": "code",
      "source": [
        "vvelocidad = np.vectorize(velocidad)\n",
        "vvelocidad(1.2, concentraciones)"
      ],
      "metadata": {
        "id": "mf6nr0FSiKJX"
      },
      "execution_count": null,
      "outputs": []
    },
    {
      "cell_type": "markdown",
      "source": [
        "### Números aleatorios\n",
        "\n",
        "Dependiendo de nuestras necesidades, podemos generar números aleatorios de igual probabilidad o que sigan alguna distribución."
      ],
      "metadata": {
        "id": "mBEqVcqojg1M"
      }
    },
    {
      "cell_type": "code",
      "source": [
        "# Para generar números de una distribución uniforme\n",
        "# igualmente probables\n",
        "np.random.rand(10) # Genera floats en [0,1)"
      ],
      "metadata": {
        "id": "yPECH-BQjsHN"
      },
      "execution_count": null,
      "outputs": []
    },
    {
      "cell_type": "code",
      "source": [
        "#Genera enteros en un rango\n",
        "np.random.randint(0, high=10, size=10)"
      ],
      "metadata": {
        "id": "jzjyRZWbkZnC"
      },
      "execution_count": null,
      "outputs": []
    },
    {
      "cell_type": "code",
      "source": [
        "# De una distribución binomial (piensa en volados)\n",
        "# binomial(número_de_monedas, probabilidad_de_obtener_1, números_a_generar)\n",
        "np.random.binomial(2, p=0.5, size=100)"
      ],
      "metadata": {
        "id": "BpuWH1oMkvXX"
      },
      "execution_count": null,
      "outputs": []
    },
    {
      "cell_type": "code",
      "source": [
        "# Distribución de Poisson\n",
        "# poisson(promedio_estadístico,n)\n",
        "np.random.poisson(lam=3.6, size=30)"
      ],
      "metadata": {
        "id": "bwepadZ1lyjG"
      },
      "execution_count": null,
      "outputs": []
    },
    {
      "cell_type": "code",
      "source": [
        "# Distibución normal (estándar, centrada en 0)\n",
        "np.random.randn(10)"
      ],
      "metadata": {
        "id": "ANedaiTNmW62"
      },
      "execution_count": null,
      "outputs": []
    },
    {
      "cell_type": "markdown",
      "source": [
        "---\n",
        "# Manejo de datos con Pandas"
      ],
      "metadata": {
        "id": "2bBjFdXctULH"
      }
    },
    {
      "cell_type": "markdown",
      "source": [
        "La biblioteca pandas nos ofrece herramientas para trabajar con datos en forma de tablas. Puede usarse como sustituto de Excel."
      ],
      "metadata": {
        "id": "f7HywNs-wNFA"
      }
    },
    {
      "cell_type": "code",
      "source": [
        "import pandas as pd"
      ],
      "metadata": {
        "id": "9DxQtCJ0u4Ev"
      },
      "execution_count": null,
      "outputs": []
    },
    {
      "cell_type": "markdown",
      "source": [
        "## Objetos básicos"
      ],
      "metadata": {
        "id": "Orik1Vlmwkzy"
      }
    },
    {
      "cell_type": "markdown",
      "source": [
        "Podemos definir *series*, similares a las listas.\n"
      ],
      "metadata": {
        "id": "VMUQZE3Pwoqt"
      }
    },
    {
      "cell_type": "code",
      "source": [
        "masas = pd.Series([1.01,4.00,6.94,9.01,10.81])\n",
        "masas # ¿Qué diferencias notas con una lista?"
      ],
      "metadata": {
        "id": "IfqtDAJOwin7"
      },
      "execution_count": null,
      "outputs": []
    },
    {
      "cell_type": "code",
      "source": [
        "# Podemos acceder a los elementos usando índices\n",
        "masas[0]"
      ],
      "metadata": {
        "id": "mQMuCT-bxC9W"
      },
      "execution_count": null,
      "outputs": []
    },
    {
      "cell_type": "markdown",
      "source": [
        "A diferencia de las listas, podemos modificar los índices."
      ],
      "metadata": {
        "id": "C1eXJmcHxKAX"
      }
    },
    {
      "cell_type": "code",
      "source": [
        "indices=('H', 'He', 'Li', 'Be', 'B')\n",
        "masas2 = pd.Series([1.01,4.00,6.94,9.01,10.81], indices)\n",
        "masas2"
      ],
      "metadata": {
        "id": "EKgr25cmxHaS"
      },
      "execution_count": null,
      "outputs": []
    },
    {
      "cell_type": "code",
      "source": [
        "masas2['H']"
      ],
      "metadata": {
        "id": "7Fer0uQ6xWgy"
      },
      "execution_count": null,
      "outputs": []
    },
    {
      "cell_type": "code",
      "source": [
        "# Para acceder a los indices\n",
        "masas2.index"
      ],
      "metadata": {
        "id": "6uBKrKEDxjAR"
      },
      "execution_count": null,
      "outputs": []
    },
    {
      "cell_type": "code",
      "source": [
        "# Para modifical indices de series ya definidad\n",
        "masas.index=['H', 'He', 'Li', 'Be', 'B']\n",
        "masas"
      ],
      "metadata": {
        "id": "yLjX_cjkxxdz"
      },
      "execution_count": null,
      "outputs": []
    },
    {
      "cell_type": "code",
      "source": [
        "# Podemos acceder aún así usando índice de posición usando iloc\n",
        "masas2.iloc[2] "
      ],
      "metadata": {
        "id": "FIMr17LzyLpU"
      },
      "execution_count": null,
      "outputs": []
    },
    {
      "cell_type": "markdown",
      "source": [
        "El otro objeto básico en pandas son los *DataFrames*. Estos incluyen columnas, formando tablas. Puede pensarse como un conjunto de Series del mismo tamaño."
      ],
      "metadata": {
        "id": "u2o7dJ4Oyldr"
      }
    },
    {
      "cell_type": "code",
      "source": [
        "# Datos de los primeros 5 elementos\n",
        "name = ['hidrogeno', 'helio', 'litio', 'berilio','boro']\n",
        "numero_z = [1,2,3,4,5]\n",
        "masa = [1.01,4.00,6.94,9.01,10.81]\n",
        "EI = [13.6, 24.6, 5.4, 9.3, 8.3] # energia de ionización"
      ],
      "metadata": {
        "id": "fuzLhlZ6ykgx"
      },
      "execution_count": null,
      "outputs": []
    },
    {
      "cell_type": "code",
      "source": [
        "columnas = ['H', 'He', 'Li', 'Be','B'] \n",
        "indices = ['nombre', 'Z', 'masa', 'EI']\n",
        "elementos = pd.DataFrame([name, numero_z, masa, EI], \n",
        "                        columns=columnas, index=indices)\n",
        "elementos"
      ],
      "metadata": {
        "id": "jVIDl3HrzuOe"
      },
      "execution_count": null,
      "outputs": []
    },
    {
      "cell_type": "markdown",
      "source": [
        "Podemos acceder a los datos de un DataFrame de distintas formas."
      ],
      "metadata": {
        "id": "s-dPbPe0z7Pp"
      }
    },
    {
      "cell_type": "code",
      "source": [
        "# Por nombre de la columna\n",
        "elementos['Li'] "
      ],
      "metadata": {
        "id": "uC0pj83g0AN4"
      },
      "execution_count": null,
      "outputs": []
    },
    {
      "cell_type": "code",
      "source": [
        "# Para acceder por columna\n",
        "elementos.loc['EI']"
      ],
      "metadata": {
        "id": "_zED3I6f0QL6"
      },
      "execution_count": null,
      "outputs": []
    },
    {
      "cell_type": "code",
      "source": [
        "# Ambas formas nos regresaron una Serie\n",
        "numero_atomico = elementos.loc['Z']\n",
        "numero_atomico['Li']"
      ],
      "metadata": {
        "id": "Zu6-L_9i0dgl"
      },
      "execution_count": null,
      "outputs": []
    },
    {
      "cell_type": "code",
      "source": [
        "# Para acceder a un elemento de la tabla\n",
        "elementos.loc['EI', 'Li'] # Damos columna y fila "
      ],
      "metadata": {
        "id": "XMS85_5P02jw"
      },
      "execution_count": null,
      "outputs": []
    },
    {
      "cell_type": "code",
      "source": [
        "# Usando indices de posición (podemos usar slicing)\n",
        "elementos.iloc[2:, 2]"
      ],
      "metadata": {
        "id": "k5PvHkk51I9H"
      },
      "execution_count": null,
      "outputs": []
    },
    {
      "cell_type": "code",
      "source": [
        "#Podemos usar listas para especificar varios indices/columnas\n",
        "elementos.loc[['EI','masa'],'H']"
      ],
      "metadata": {
        "id": "RdKvd938Xad3"
      },
      "execution_count": null,
      "outputs": []
    },
    {
      "cell_type": "markdown",
      "source": [
        "## Lectura y escritura de datos"
      ],
      "metadata": {
        "id": "E2kufaPjYrLD"
      }
    },
    {
      "cell_type": "markdown",
      "source": [
        "Es posible leer y escribir distintos formatos de datos:\n",
        "\n",
        "* CSV (Comma Separated Values)\n",
        "* Excel (.xls, .xlsx)\n",
        "* HTML\n",
        "* JSON\n",
        "\n",
        "Estos datos pueden ser leidos desde un archivo o una dirección web."
      ],
      "metadata": {
        "id": "sbh9SATaY4QF"
      }
    },
    {
      "cell_type": "markdown",
      "source": [
        "`pd.read_table()` es una función general para importar archivos de texto donde cada linea es una fila y los datos en cada fila están separados por caracteres o espacios. Para especificar el separador pueden usarse los argumentos `delimiter` o `sep` (son equivalentes), o definir `delim_whitespaces = True`."
      ],
      "metadata": {
        "id": "eGiH_ZDWaXbg"
      }
    },
    {
      "cell_type": "markdown",
      "source": [
        "Leamos un archivo .pdb para benceno: https://github.com/weisscharlesj/SciCompforChemists/blob/master/notebooks/chapter_05/data/benzene.pdb"
      ],
      "metadata": {
        "id": "vtwBM9kadRKG"
      }
    },
    {
      "cell_type": "code",
      "source": [
        "benz_url = 'https://raw.githubusercontent.com/weisscharlesj/SciCompforChemists/master/notebooks/chapter_05/data/benzene.pdb'\n",
        "benz = pd.read_table(benz_url, delim_whitespace=True, \n",
        "                     skiprows=2, skipfooter=13, header=None)"
      ],
      "metadata": {
        "id": "CW4a-AgUYEca"
      },
      "execution_count": null,
      "outputs": []
    },
    {
      "cell_type": "code",
      "source": [
        "benz"
      ],
      "metadata": {
        "id": "SLC8eIj4dFuV"
      },
      "execution_count": null,
      "outputs": []
    },
    {
      "cell_type": "markdown",
      "source": [
        "## Reto"
      ],
      "metadata": {
        "id": "Jy9DmN-5ecg7"
      }
    },
    {
      "cell_type": "markdown",
      "source": [
        "A partir de la tabla anterior crea una nueva tabla que solo contenga los símbolos de los átomos y sus coordenadas xyz. Ajusta los nombres de columnas para que sean adecuados."
      ],
      "metadata": {
        "id": "rq33CE_HevVf"
      }
    },
    {
      "cell_type": "code",
      "source": [
        "# Pon aquí tu respuesta"
      ],
      "metadata": {
        "id": "Y-hUXNoJeRba"
      },
      "execution_count": null,
      "outputs": []
    },
    {
      "cell_type": "markdown",
      "source": [
        "## Lectura y escritura (cont.)"
      ],
      "metadata": {
        "id": "jUxhMRT6fL9V"
      }
    },
    {
      "cell_type": "markdown",
      "source": [
        "También podemos utilizar `read_csv()` para leer archivos, con la diferencia de que el separador default es la coma (pero aún podemos modificar eso). Intenta cambiar arriba la función y ve que ocurre."
      ],
      "metadata": {
        "id": "6GsZJtGHfy1d"
      }
    },
    {
      "cell_type": "markdown",
      "source": [
        "Para escribir un archivo csv, podemos utilizar `to_csv()`, el cuál nos genera un archivo separado por comas."
      ],
      "metadata": {
        "id": "Mzh6UVjlgLzq"
      }
    },
    {
      "cell_type": "code",
      "source": [
        "elementos.to_csv('elementos.csv') #Verifica el archivo generado"
      ],
      "metadata": {
        "id": "C0pcRWiEgVYQ"
      },
      "execution_count": null,
      "outputs": []
    },
    {
      "cell_type": "code",
      "source": [
        "#Podemos leer de vuelta el archivo\n",
        "leer_elementos = pd.read_csv('elementos.csv')\n",
        "leer_elementos"
      ],
      "metadata": {
        "id": "BVMcIEmyjNEO"
      },
      "execution_count": null,
      "outputs": []
    },
    {
      "cell_type": "markdown",
      "source": [
        "También podemos trabajar con archivos de Excel. Puedes descargar este ejemplo: https://docs.google.com/spreadsheets/d/164mNRnl1mDSGxHQOIvb959xmOR4ZQFokkVYPXwMol9w/edit?usp=sharing\n",
        "\n"
      ],
      "metadata": {
        "id": "JdWivR1Sj0xw"
      }
    },
    {
      "cell_type": "code",
      "source": [
        "import openpyxl\n",
        "import pandas as pd\n",
        "titulacion = pd.read_excel('datospex1lqa.xlsx', skiprows=1, skipfooter=15, sheet_name='Hoja1')\n",
        "titulacion"
      ],
      "metadata": {
        "id": "jIlt3XuKj4jc"
      },
      "execution_count": null,
      "outputs": []
    },
    {
      "cell_type": "markdown",
      "source": [
        "## Explorando los datos"
      ],
      "metadata": {
        "id": "foVRJUSDpPYn"
      }
    },
    {
      "cell_type": "code",
      "source": [
        "# Puedes ver una parte del inicio (head)\n",
        "titulacion.head()"
      ],
      "metadata": {
        "id": "jCaMWzwtkZg7"
      },
      "execution_count": null,
      "outputs": []
    },
    {
      "cell_type": "code",
      "source": [
        "# Y del final\n",
        "titulacion.tail()"
      ],
      "metadata": {
        "id": "x_pqncjIp3gQ"
      },
      "execution_count": null,
      "outputs": []
    },
    {
      "cell_type": "code",
      "source": [
        "# Para obtener una descripción de los datos\n",
        "titulacion.describe()"
      ],
      "metadata": {
        "id": "N5HPeYJDqBdC"
      },
      "execution_count": null,
      "outputs": []
    },
    {
      "cell_type": "code",
      "source": [
        "#Conteo de apariciones de cada valor\n",
        "titulacion['pH'].value_counts()"
      ],
      "metadata": {
        "id": "l5iPFxXUqQXV"
      },
      "execution_count": null,
      "outputs": []
    },
    {
      "cell_type": "code",
      "source": [
        "# Podemos realizar algunas operaciones\n",
        "titulacion.mean()"
      ],
      "metadata": {
        "id": "AqNMY6O-q24Z"
      },
      "execution_count": null,
      "outputs": []
    },
    {
      "cell_type": "code",
      "source": [
        "titulacion['V'].sum()"
      ],
      "metadata": {
        "id": "mn4CIVN3rIKx"
      },
      "execution_count": null,
      "outputs": []
    },
    {
      "cell_type": "markdown",
      "source": [
        "## Modificando DataFrames"
      ],
      "metadata": {
        "id": "BPcKDKhdrpiw"
      }
    },
    {
      "cell_type": "markdown",
      "source": [
        "Podemos agregar columnas."
      ],
      "metadata": {
        "id": "J_ACurXWvz9v"
      }
    },
    {
      "cell_type": "code",
      "source": [
        "# Podemos insertar columnas\n",
        "elementos"
      ],
      "metadata": {
        "id": "B2FN-1LCr4zm"
      },
      "execution_count": null,
      "outputs": []
    },
    {
      "cell_type": "code",
      "source": [
        "elementos['C'] = ['carbono', 6, 12.01, 11.3]\n",
        "elementos"
      ],
      "metadata": {
        "id": "X-ip_EthsGLf"
      },
      "execution_count": null,
      "outputs": []
    },
    {
      "cell_type": "code",
      "source": [
        "# Podemos crear una serie para nitrogeno. Si especificamos los indices el orden\n",
        "# no importa\n",
        "nitrogeno = pd.Series([7, 14.01, 'nitrogeno', 14.5], \n",
        "                     index=['Z', 'masa', 'nombre', 'EI'])\n",
        "nitrogeno\n"
      ],
      "metadata": {
        "id": "2uICtW8rsmAS"
      },
      "execution_count": null,
      "outputs": []
    },
    {
      "cell_type": "code",
      "source": [
        "elementos['N'] = nitrogeno\n",
        "elementos"
      ],
      "metadata": {
        "id": "8VwNrHtas50A"
      },
      "execution_count": null,
      "outputs": []
    },
    {
      "cell_type": "markdown",
      "source": [
        "También podemos eliminar filas y columnas"
      ],
      "metadata": {
        "id": "73OUZ-qRv4e4"
      }
    },
    {
      "cell_type": "code",
      "source": [
        "elementos.drop('H', axis=1)"
      ],
      "metadata": {
        "id": "gL7Z7pzxtIWl"
      },
      "execution_count": null,
      "outputs": []
    },
    {
      "cell_type": "code",
      "source": [
        "# ¿Qué significa axis 0 o 1?\n",
        "elementos.drop('EI', axis=0)"
      ],
      "metadata": {
        "id": "L8nBGZ0Ptgl4"
      },
      "execution_count": null,
      "outputs": []
    },
    {
      "cell_type": "markdown",
      "source": [
        "Unir DataFrames:"
      ],
      "metadata": {
        "id": "1w8j84cLvwYT"
      }
    },
    {
      "cell_type": "code",
      "source": [
        "datos_quim1 = [['MM', 58.08, 32.04], ['dipolo', 2.91, 1.69], \n",
        "             ['formula', 'C3H6O', 'CH3OH']] \n",
        "columnas=['propiedad','acetona', 'metanol']\n",
        "df_quim1 = pd.DataFrame(datos_quim1, columns=columnas)\n",
        "df_quim1"
      ],
      "metadata": {
        "id": "r-MJUsY6t8RB"
      },
      "execution_count": null,
      "outputs": []
    },
    {
      "cell_type": "code",
      "source": [
        "datos_quim2 = [['formula', 'C6H6', 'H2O'], ['dipolo', 0.00, 1.85], \n",
        "            ['MM', 78.11, 18.02]]\n",
        "df_quim2 = pd.DataFrame(datos_quim2 , columns=['propiedad', 'benceno', 'agua'])\n",
        "df_quim2"
      ],
      "metadata": {
        "id": "yBFi-n54uM0I"
      },
      "execution_count": null,
      "outputs": []
    },
    {
      "cell_type": "code",
      "source": [
        "#Usamos merge para unir ambos df\n",
        "df_quim1.merge(df_quim2)"
      ],
      "metadata": {
        "id": "UharEYL7unim"
      },
      "execution_count": null,
      "outputs": []
    },
    {
      "cell_type": "code",
      "source": [
        "# Dos df con columnas distintas\n",
        "tabla1 = pd.DataFrame({'elemento':['Co', 'Fe', 'Cr','Ni'], \n",
        "                       'protones': [27, 26, 24, 28]})\n",
        "tabla2 = pd.DataFrame({'metal':['Fe', 'Co', 'Cr', 'Ni'], \n",
        "                       'EI': [7.90, 7.88, 6.79, 7.64]})"
      ],
      "metadata": {
        "id": "k2-gPeo4vKyL"
      },
      "execution_count": null,
      "outputs": []
    },
    {
      "cell_type": "code",
      "source": [
        "# Indicamos que columnas usar para alinear\n",
        "tabla1.merge(tabla2, left_on='elemento',right_on='metal')"
      ],
      "metadata": {
        "id": "zB6mjyN9vOwT"
      },
      "execution_count": null,
      "outputs": []
    },
    {
      "cell_type": "markdown",
      "source": [
        "Podemos también concatenar. ¿En qué difiere de unir?"
      ],
      "metadata": {
        "id": "Qq5TZthKwSXn"
      }
    },
    {
      "cell_type": "code",
      "source": [
        "groupo1 = pd.DataFrame({'metal':['Mg', 'Al', 'Ti', 'Fe'], \n",
        "                       'densidad': [1.77, 2.73, 4.55, 7.88]})\n",
        "groupo2 = pd.DataFrame({'metal':['Al', 'Mg', 'Ti', 'Fe'], \n",
        "                       'densidad': [2.90, 1.54, 4.12, 8.10]})"
      ],
      "metadata": {
        "id": "P90J05ZDwF7-"
      },
      "execution_count": null,
      "outputs": []
    },
    {
      "cell_type": "code",
      "source": [
        "pd.concat((groupo1, groupo2))"
      ],
      "metadata": {
        "id": "soi1rOswwiZZ"
      },
      "execution_count": null,
      "outputs": []
    },
    {
      "cell_type": "code",
      "source": [
        "# Especificando el eje"
      ],
      "metadata": {
        "id": "SCd__U3Hw0qT"
      },
      "execution_count": null,
      "outputs": []
    },
    {
      "cell_type": "code",
      "source": [
        "# ¿Y si usamos merge?"
      ],
      "metadata": {
        "id": "OlfTFF9YxCCO"
      },
      "execution_count": null,
      "outputs": []
    },
    {
      "cell_type": "markdown",
      "source": [
        "# Gráficas con matplotlib\n",
        "\n",
        "Esta biblioteca es una de las más utilizadas para realizar gráficas. Forma parte del compendio SciPy."
      ],
      "metadata": {
        "id": "0NbjFKvKPLmV"
      }
    },
    {
      "cell_type": "code",
      "execution_count": null,
      "metadata": {
        "id": "uRfj1AiJOUaZ"
      },
      "outputs": [],
      "source": [
        "# Para comenzar, debemos importar la biblioteca\n",
        "import matplotlib.pyplot as plt #Solamente importamos el modulo pyplot, una parte de todo el paquete"
      ]
    },
    {
      "cell_type": "markdown",
      "source": [
        "## Funcionamiento básico"
      ],
      "metadata": {
        "id": "G0x85iNVZl2J"
      }
    },
    {
      "cell_type": "markdown",
      "source": [
        "Comencemos generando algunos datos para graficar. Por ejemplo, usando la función de onda ($\\psi$) del orbital atómico 3s de hidrógeno ($r$ en Bohrs).\n",
        "\n",
        "$$ \\psi_{3s} = \\frac{2}{27}\\sqrt{3}(2r^{2/9} - 2r + 3)e^{-r/3} $$\n",
        "\n",
        "![Densidad electrónica de orbitales s hidrogenoides](https://cdn.kastatic.org/ka-perseus-images/867daad52b2895a83b5f3723828dfd0403e78f53.jpg)"
      ],
      "metadata": {
        "id": "7_FBuaToQMbr"
      }
    },
    {
      "cell_type": "code",
      "source": [
        "#Definimos una funcion que evalue esta expresion\n",
        "import math\n",
        "\n",
        "def orbital_3S(r):\n",
        "    wf = (2/27)*math.sqrt(3)*(2*r**2/9 - 2*r + 3)* math.exp(-\n",
        "         r/3) #Podemos romper algunas expresiones\n",
        "              #para que sean más faciles de leer\n",
        "    return wf"
      ],
      "metadata": {
        "id": "IZsnnaUqObM0"
      },
      "execution_count": null,
      "outputs": []
    },
    {
      "cell_type": "code",
      "source": [
        "# Generemos algunos valores. Intentemos entender las siguientes expresiones:\n",
        "r = [num / 4 for num in range(1, 150, 3)]\n",
        "psi_3s = [orbital_3S(num) for num in r]"
      ],
      "metadata": {
        "id": "lqmnF713QwPN"
      },
      "execution_count": null,
      "outputs": []
    },
    {
      "cell_type": "code",
      "source": [
        "# Lo anterior es un ejemplo de formas pythonicas de hacer una tarea. No siempre\n",
        "# son muy intuitivas, pero suelen ser muy practicas."
      ],
      "metadata": {
        "id": "uwfZTWHQRzxE"
      },
      "execution_count": null,
      "outputs": []
    },
    {
      "cell_type": "code",
      "source": [
        "# Usamos la función plot de plt\n",
        "plt.plot(r,psi_3s,'o') #Argumentos: x, y, marcador"
      ],
      "metadata": {
        "id": "bnHLoBYMSglh"
      },
      "execution_count": null,
      "outputs": []
    },
    {
      "cell_type": "markdown",
      "source": [
        "Hay varios parámetros que podemos ajustar:\n",
        "\n",
        "* Marcadores:  o , * , ^ , s , p\n",
        "* Linea: - , -- , -. , :\n",
        "* Colores: r, b, g, k, m, c, y\n",
        "\n",
        "Los keywords correspondientes son **marker**, **linestyle** y **color**. Todos estos keywords deben ser 'cadenas'.\n",
        "\n",
        "\n",
        "\n"
      ],
      "metadata": {
        "id": "3-kwi8NDS_SR"
      }
    },
    {
      "cell_type": "code",
      "source": [
        "#Repite el gráfico modificando los parámetros anteriores.\n",
        "plt.plot(r,psi_3s)"
      ],
      "metadata": {
        "id": "nxdaqWBkSxK2"
      },
      "execution_count": null,
      "outputs": []
    },
    {
      "cell_type": "markdown",
      "source": [
        "Muchos parámetros de matplotlib tienen formas abreviadas:\n",
        "\n",
        "* linestyle -> ls\n",
        "* linewidth -> lw\n",
        "* color -> s\n",
        "* markersize -> ms\n",
        "\n",
        "Además, puedes usar un par de color + linea o marcador: 'ro' , 'k-'"
      ],
      "metadata": {
        "id": "hERUDbu4VQCj"
      }
    },
    {
      "cell_type": "code",
      "source": [
        "# Prueba con estas otras instrucciones"
      ],
      "metadata": {
        "id": "XdPPA-h6V9zM"
      },
      "execution_count": null,
      "outputs": []
    },
    {
      "cell_type": "code",
      "source": [
        "# ¿Qué le falta a nuestro gráfico?\n",
        "plt.plot(r, psi_3s, 'go-')\n",
        "plt.xlabel('r (Bohrs)')\n",
        "plt.ylabel('$\\Psi$') # Notación de LaTeX\n",
        "plt.title('Función de onda radial 3s de hidrógeno')"
      ],
      "metadata": {
        "id": "0NrWJPRJU9Ya"
      },
      "execution_count": null,
      "outputs": []
    },
    {
      "cell_type": "code",
      "source": [
        "# Podemos cambiar el tamaño del gráfico\n",
        "plt.figure(figsize=(8,4))\n",
        "plt.xlabel('r (Bohrs)')\n",
        "plt.ylabel('$\\Psi$') # Notación de LaTeX\n",
        "plt.title('Función de onda radial 3s de hidrógeno')\n",
        "plt.plot(r, psi_3s, 'go-')\n"
      ],
      "metadata": {
        "id": "ymm33juuXYj9"
      },
      "execution_count": null,
      "outputs": []
    },
    {
      "cell_type": "code",
      "source": [
        "#También podemos guardar la imagen\n",
        "plt.plot(r, psi_3s, 'go-')\n",
        "plt.savefig('H3s.png', format='PNG', dpi=600)\n"
      ],
      "metadata": {
        "id": "ZPxfJDoHY1qU"
      },
      "execution_count": null,
      "outputs": []
    },
    {
      "cell_type": "markdown",
      "source": [
        "## Tipos de gráficos"
      ],
      "metadata": {
        "id": "AZ6lvfzKZwI8"
      }
    },
    {
      "cell_type": "markdown",
      "source": [
        "### Gráfico de barras\n",
        "\n",
        "Grafiquemos las masas atómicas de los primeros 10 átomos de la tabla periódica."
      ],
      "metadata": {
        "id": "4kZIkvmQaAJd"
      }
    },
    {
      "cell_type": "code",
      "source": [
        "numero_Z = [x + 1 for x in range(10)]\n",
        "masa_atomica = [1.01, 4.04, 6.94, 9.01, 10.81, 12.01, 14.01, 16.00, 19.00, 20.18]"
      ],
      "metadata": {
        "id": "hzOrba3oZ_d9"
      },
      "execution_count": null,
      "outputs": []
    },
    {
      "cell_type": "code",
      "source": [
        "plt.bar(numero_Z, masa_atomica) #Para generar gráficos de barras\n",
        "plt.xlabel('Número atómico')\n",
        "plt.ylabel('Masa molar, g/mol')"
      ],
      "metadata": {
        "id": "AJA4t43YaVB8"
      },
      "execution_count": null,
      "outputs": []
    },
    {
      "cell_type": "markdown",
      "source": [
        "### Gráfico de dispersión\n",
        "\n",
        "Además de usar plt.plot(), podemos usar plt.scatter().\n",
        "\n",
        "Usaremos un conjunto de datos famoso sobre vinos 🍷."
      ],
      "metadata": {
        "id": "7Uz78AiRa2HJ"
      }
    },
    {
      "cell_type": "code",
      "source": [
        "# Estamos usando la biblioteca scikit-learn para obtener los datos.\n",
        "# Esta biblioteca se utiliza para machine learning\n",
        "from sklearn.datasets import load_wine\n",
        "wine = load_wine()\n",
        "wine = wine.data"
      ],
      "metadata": {
        "id": "7OrsGoujbHyc"
      },
      "execution_count": null,
      "outputs": []
    },
    {
      "cell_type": "code",
      "source": [
        "# Wine es una practicamente una tabla, formada de listas de listas\n",
        "wine"
      ],
      "metadata": {
        "id": "MuiJgsbmbp_h"
      },
      "execution_count": null,
      "outputs": []
    },
    {
      "cell_type": "code",
      "source": [
        "plt.scatter(wine[:,0], wine[:,5], c=wine[:,12]) # Analiza los indices usados\n",
        "plt.xlabel('Contenido de alcohol') # columna 0\n",
        "plt.ylabel('Alcalinidad de la ceniza') # columna 5\n",
        "cbar = plt.colorbar()\n",
        "cbar.set_label('Contenido de prolina') #columna 12"
      ],
      "metadata": {
        "id": "CRP753EZbL4b"
      },
      "execution_count": null,
      "outputs": []
    },
    {
      "cell_type": "markdown",
      "source": [
        "### Histogramas\n",
        "\n",
        "Tenemos una lista de calores específicos $Cp$ para varios metales. Queremos ver como se distribuyen estos valores."
      ],
      "metadata": {
        "id": "MwCmWU4fdS_S"
      }
    },
    {
      "cell_type": "code",
      "source": [
        "Cp = [0.897, 0.207, 0.231, 0.231, 0.449, 0.385, 0.129, \n",
        "      0.412, 0.128, 1.02, 0.140, 0.233, 0.227, 0.523,\n",
        "      0.134, 0.387]\n",
        "\n",
        "plt.hist(Cp, bins=10, edgecolor='k') #Para generar el histograma\n",
        "plt.xlabel('Calor específico, J/gC')\n",
        "plt.ylabel('Número de metales')"
      ],
      "metadata": {
        "id": "YF1nzxbAbk39"
      },
      "execution_count": null,
      "outputs": []
    },
    {
      "cell_type": "code",
      "source": [
        "#En lugar de dar el número de bins, damos los intervalos\n",
        "plt.hist(Cp, bins=[0, 0.2, 0.4, 0.6, 0.8, 1.0], edgecolor='k')\n",
        "plt.xlabel('Calor específico, J/gC')\n",
        "plt.ylabel('Numero de metales')\n"
      ],
      "metadata": {
        "id": "kXGUHiRwdyO9"
      },
      "execution_count": null,
      "outputs": []
    },
    {
      "cell_type": "code",
      "source": [
        "# Hay muchos otros tipos de gráficos\n",
        "import numpy as np\n",
        "theta = np.arange(0, 360,0.1)\n",
        "r = [abs(0.5 * (3 * math.cos(num)**2 - 1)) for num in theta]\n",
        "plt.figure(figsize=(8,8))\n",
        "plt.polar(theta, r)\n",
        "plt.title('Orbital ' + '$d_{z^2}$')"
      ],
      "metadata": {
        "id": "HziJWBUeeDyj"
      },
      "execution_count": null,
      "outputs": []
    },
    {
      "cell_type": "markdown",
      "source": [
        "## Varios gráficos en uno"
      ],
      "metadata": {
        "id": "7u8jyDaJgS3U"
      }
    },
    {
      "cell_type": "code",
      "source": [
        "def orbital_3P(r):\n",
        "    wf = (math.sqrt(6)*r*(4-(2/3)*r)*math.e**(-r/3))/81\n",
        "    return wf"
      ],
      "metadata": {
        "id": "zCcqmzVee5hT"
      },
      "execution_count": null,
      "outputs": []
    },
    {
      "cell_type": "code",
      "source": [
        "r = [num / 4 for num in range(1, 150, 3)]\n",
        "psi_3p = [orbital_3P(num) for num in r]"
      ],
      "metadata": {
        "id": "33hotHtSgcV7"
      },
      "execution_count": null,
      "outputs": []
    },
    {
      "cell_type": "code",
      "source": [
        "# Para tener multiples gráficas\n",
        "plt.plot(r, psi_3s)\n",
        "plt.plot(r, psi_3p)\n",
        "plt.xlabel('Radio, Bohrs')\n",
        "plt.ylabel('Función de onda')\n"
      ],
      "metadata": {
        "id": "7hH_Psjngf0n"
      },
      "execution_count": null,
      "outputs": []
    },
    {
      "cell_type": "code",
      "source": [
        "# O también:\n",
        "plt.plot(r, psi_3s, 'bo', r, psi_3p,'r^')\n",
        "plt.xlabel('Radio, Bohrs')\n",
        "plt.ylabel('Función de onda')"
      ],
      "metadata": {
        "id": "_7TRF9Rtglev"
      },
      "execution_count": null,
      "outputs": []
    },
    {
      "cell_type": "code",
      "source": [
        "#Agregamos leyendas\n",
        "plt.plot(r, psi_3s, label='Orbital 3s')\n",
        "plt.plot(r, psi_3p, label='Orbital 3p')\n",
        "plt.xlabel('Radio, Bohrs')\n",
        "plt.ylabel('Función de onda')\n",
        "plt.legend()"
      ],
      "metadata": {
        "id": "FJdjvvgagv9o"
      },
      "execution_count": null,
      "outputs": []
    },
    {
      "cell_type": "markdown",
      "source": [
        "## Gráficos múltiples"
      ],
      "metadata": {
        "id": "EFgbndBGhPaO"
      }
    },
    {
      "cell_type": "code",
      "source": [
        "plt.figure(figsize=(12,4)) \n",
        "\n",
        "plt.subplot(1,2,1) # primer subgráfico\n",
        "plt.plot(r, psi_3s)\n",
        "plt.hlines(0, 0, 35, linestyle='dashed', color='C1')\n",
        "plt.xlabel('Radio, Bohrs')\n",
        "plt.title('Orbital 3s')\n",
        "\n",
        "plt.subplot(1,2,2) # segundo subgráfico\n",
        "plt.plot(r, psi_3p)\n",
        "plt.hlines(0, 0, 35, linestyle='dashed', color='C1')\n",
        "plt.xlabel('Radio, Bohrs')\n",
        "plt.title('Orbital 3p')\n"
      ],
      "metadata": {
        "id": "aQnuStMAhAlY"
      },
      "execution_count": null,
      "outputs": []
    },
    {
      "cell_type": "code",
      "source": [
        "# Otra forma\n",
        "fig = plt.figure(figsize=(8,6))\n",
        "\n",
        "ax1 = fig.add_subplot(2,1,1)\n",
        "ax1.plot(r, psi_3s)\n",
        "ax1.hlines(0, 0, 35, linestyle='dashed', color='C1')\n",
        "ax1.set_title('Orbital 3s')\n",
        "ax1.set_xlabel('Radio, $a_u$')\n",
        "\n",
        "\n",
        "ax2 = fig.add_subplot(2,1,2)\n",
        "ax2.plot(r, psi_3p)\n",
        "ax2.hlines(0, 0, 35, linestyle='dashed', color='C1')\n",
        "ax2.set_title('Orbital 3p')\n",
        "ax2.set_xlabel('Radio, $a_u$')\n",
        "\n",
        "plt.tight_layout()"
      ],
      "metadata": {
        "id": "op2-RvqghSCq"
      },
      "execution_count": null,
      "outputs": []
    },
    {
      "cell_type": "markdown",
      "source": [
        "Gráfico de Ramachandran -> [Nat. Chem. Biol. 2016, 12, 46-50](https://doi.org/10.1038/nchembio.1976)"
      ],
      "metadata": {
        "id": "kizluANCkG1d"
      }
    },
    {
      "cell_type": "code",
      "source": [
        "rama = np.genfromtxt('https://raw.githubusercontent.com/weisscharlesj/SciCompforChemists/master/notebooks/chapter_03/data/hydrogenase_5a4m_phipsi.csv', \n",
        "                     delimiter=',', skip_header=1)\n",
        "\n",
        "psi = rama[:,0]\n",
        "phi = rama[:,1]\n"
      ],
      "metadata": {
        "id": "Ny8OO520kGX7"
      },
      "execution_count": null,
      "outputs": []
    },
    {
      "cell_type": "code",
      "source": [
        "plt.figure(figsize=(10,6))\n",
        "\n",
        "plt.subplot(2,1,1)\n",
        "plt.plot(phi, psi, '.', markersize=8)\n",
        "plt.xlim(-180, 180)\n",
        "plt.ylim(-180, 180)\n",
        "plt.xlabel('$\\phi, grados$', fontsize=15)\n",
        "plt.ylabel('$\\psi, grados$', fontsize=15)\n",
        "plt.title('Gráfica de Ramachandran')\n",
        "\n",
        "plt.subplot(2,2,3)\n",
        "plt.hist(phi[1:], edgecolor='k')\n",
        "plt.xlabel('$\\phi, grados$')\n",
        "plt.ylabel('Conteo')\n",
        "plt.title('$\\phi \\, ángulos$')\n",
        "\n",
        "plt.subplot(2,2,4)\n",
        "plt.hist(psi[:-1], edgecolor='k')\n",
        "plt.xlabel('$\\psi, grados$')\n",
        "plt.ylabel('Conteo')\n",
        "plt.title('$\\psi \\, ángulos$')\n",
        "\n",
        "plt.tight_layout()"
      ],
      "metadata": {
        "id": "z1ABhPMukYrW"
      },
      "execution_count": null,
      "outputs": []
    },
    {
      "cell_type": "markdown",
      "source": [
        "## Gráficos de 3D "
      ],
      "metadata": {
        "id": "LGcOQrPNjub2"
      }
    },
    {
      "cell_type": "code",
      "source": [
        "from mpl_toolkits.mplot3d import Axes3D \n",
        "import matplotlib.pyplot as plt\n",
        "import pandas as pd"
      ],
      "metadata": {
        "id": "Urc43RiniRBW"
      },
      "execution_count": null,
      "outputs": []
    },
    {
      "cell_type": "code",
      "source": [
        "#Fulereno\n",
        "C60 = pd.read_csv('https://raw.githubusercontent.com/weisscharlesj/SciCompforChemists/master/notebooks/chapter_03/data/C60.csv', delimiter=',')\n",
        "C60\n",
        "x, y, z = C60.iloc[:,0], C60.iloc[:,1], C60.iloc[:,2]"
      ],
      "metadata": {
        "id": "10Qdjwk_iYPE"
      },
      "execution_count": null,
      "outputs": []
    },
    {
      "cell_type": "code",
      "source": [
        "#OPCIONAL, USAR AL FINAL\n",
        "#!pip install ipympl\n",
        "#%matplotlib widget\n",
        "#from google.colab import output\n",
        "#output.enable_custom_widget_manager()"
      ],
      "metadata": {
        "id": "nIeELn0M0tm3"
      },
      "execution_count": null,
      "outputs": []
    },
    {
      "cell_type": "code",
      "source": [
        "\n",
        "fig = plt.figure(figsize = (10,6))\n",
        "\n",
        "ax = fig.add_subplot(1,1,1, projection='3d')\n",
        "#ax = Axes3D(fig)\n",
        "ax.plot(x, y, z, 'o')\n",
        "\n",
        "ax.set_xlabel('X axis')\n",
        "ax.set_ylabel('Y axis')\n",
        "ax.set_zlabel('Z axis')"
      ],
      "metadata": {
        "id": "fmPfSnKcigzF"
      },
      "execution_count": null,
      "outputs": []
    },
    {
      "cell_type": "code",
      "source": [
        "import numpy as np\n",
        "\n",
        "x = np.arange(-10, 10)\n",
        "y = np.arange(-10, 10)\n",
        "X, Y = np.meshgrid(x, y)\n",
        "Z = 1 - X**2 - Y**2"
      ],
      "metadata": {
        "id": "_AYw8yHSivyQ"
      },
      "execution_count": null,
      "outputs": []
    },
    {
      "cell_type": "code",
      "source": [
        "from mpl_toolkits.mplot3d import Axes3D\n",
        " \n",
        "fig = plt.figure(figsize=(10,6))\n",
        "\n",
        "ax = fig.add_subplot(1,1,1, projection='3d')\n",
        "ax.plot_surface(X, Y, Z, cmap='viridis')\n",
        "\n",
        "ax.set_xlabel('X axis')\n",
        "ax.set_ylabel('Y axis')\n",
        "ax.set_zlabel('Z axis')\n"
      ],
      "metadata": {
        "id": "8gIaN61rjezs"
      },
      "execution_count": null,
      "outputs": []
    },
    {
      "cell_type": "markdown",
      "source": [
        "## Reto\n",
        "Visualiza un archivo de espectrometría de masas de bromobenceno."
      ],
      "metadata": {
        "id": "HY-8M4k7lep6"
      }
    },
    {
      "cell_type": "code",
      "source": [
        "# Aquí se guarda el espectro. La primer columna tiene el valor de m/z (masa/carga) y la segunda la intensidad\n",
        "espectro = np.genfromtxt('https://raw.githubusercontent.com/weisscharlesj/SciCompforChemists/master/notebooks/chapter_03/data/ms_bromobenzene.csv', delimiter=',', skip_header=1)\n"
      ],
      "metadata": {
        "id": "-aE2zALClnD-"
      },
      "execution_count": null,
      "outputs": []
    },
    {
      "cell_type": "code",
      "source": [
        "#Consejo: utiliza plt.stem()"
      ],
      "metadata": {
        "id": "3UkihYNvmuLD"
      },
      "execution_count": null,
      "outputs": []
    },
    {
      "cell_type": "code",
      "source": [],
      "metadata": {
        "id": "7J60zH8emzeZ"
      },
      "execution_count": null,
      "outputs": []
    },
    {
      "cell_type": "markdown",
      "source": [
        "## Reto"
      ],
      "metadata": {
        "id": "y_FYtcJ2xbYT"
      }
    },
    {
      "cell_type": "markdown",
      "source": [
        "Importa los siguientes cuatro archivos:\n",
        "\n",
        "* https://raw.githubusercontent.com/weisscharlesj/SciCompforChemists/master/notebooks/chapter_05/data/blue1.csv\n",
        "* https://raw.githubusercontent.com/weisscharlesj/SciCompforChemists/master/notebooks/chapter_05/data/green3.csv\n",
        "* https://raw.githubusercontent.com/weisscharlesj/SciCompforChemists/master/notebooks/chapter_05/data/red40.csv\n",
        "* https://raw.githubusercontent.com/weisscharlesj/SciCompforChemists/master/notebooks/chapter_05/data/yellow6.csv\n",
        "\n",
        "Cada archivo tiene datos de espectro UV-vis para cuatro colorantes de comida, con la primer columna las longitudes de onda (nm) y la segunda las absorbancias. Los datos están en el intervalo 400-850 nm , con incrementos de  1 nm.\n",
        "\n",
        "a) Concatena los archivos en un solo DataFrame, con la primer columna la longitud de onda (nm) y otras cuatro columnas de absorbancia de cada colorante.\n",
        "\n",
        "\n",
        "b) Usa titulos de columna adecuados."
      ],
      "metadata": {
        "id": "zhIiLnAnxfNZ"
      }
    },
    {
      "cell_type": "markdown",
      "source": [
        "# Matemáticas con SymPy"
      ],
      "metadata": {
        "id": "Ry6aQNKivUx5"
      }
    },
    {
      "cell_type": "markdown",
      "source": [
        "Podemos hacer matemáticas simbólicas usando SymPy, tal como en Mathematica o MathLab."
      ],
      "metadata": {
        "id": "jqx7V0qvm9M8"
      }
    },
    {
      "cell_type": "code",
      "source": [
        "import sympy"
      ],
      "metadata": {
        "id": "DmMklXObnJaY"
      },
      "execution_count": null,
      "outputs": []
    },
    {
      "cell_type": "code",
      "source": [
        "# Obtenemos una expresión simbólica en lugar de un resultado numérico\n",
        "sympy.sqrt(2)"
      ],
      "metadata": {
        "id": "LmbkztYlvX3R"
      },
      "execution_count": null,
      "outputs": []
    },
    {
      "cell_type": "code",
      "source": [
        "# Podemos evaluar\n",
        "sympy.sqrt(2).evalf()"
      ],
      "metadata": {
        "id": "XBqPXNYFnImd"
      },
      "execution_count": null,
      "outputs": []
    },
    {
      "cell_type": "code",
      "source": [
        "# Cambiamos el número de cifras significativas\n",
        "sympy.sqrt(2).evalf(20)"
      ],
      "metadata": {
        "id": "P26F6l8vnb7L"
      },
      "execution_count": null,
      "outputs": []
    },
    {
      "cell_type": "markdown",
      "source": [
        "## Uso de simbolos"
      ],
      "metadata": {
        "id": "rGYBZb0cnlCK"
      }
    },
    {
      "cell_type": "code",
      "source": [
        "# Primero debemos definir objetos que serán interpretados como símbolos\n",
        "# y no como valores\n",
        "x, c, m = sympy.symbols('x c m')\n",
        "x"
      ],
      "metadata": {
        "id": "NYnfW233niQ6"
      },
      "execution_count": null,
      "outputs": []
    },
    {
      "cell_type": "code",
      "source": [
        "# Ahora podemos usarlos en expresiones\n",
        "E = m*c**2\n",
        "E"
      ],
      "metadata": {
        "id": "Qy0Ttgj-oXPW"
      },
      "execution_count": null,
      "outputs": []
    },
    {
      "cell_type": "code",
      "source": [
        "E**2"
      ],
      "metadata": {
        "id": "OzHPpeohodCg"
      },
      "execution_count": null,
      "outputs": []
    },
    {
      "cell_type": "markdown",
      "source": [
        "## Métodos algebráicos"
      ],
      "metadata": {
        "id": "jLQBaljoovIc"
      }
    },
    {
      "cell_type": "markdown",
      "source": [
        "Hay algunos métodos que podemos usar para realizar operaciones\n",
        "algebráicas:\n",
        "\n",
        "* `sympy.expand()` para expandir polinomios \n",
        "* `sympy.factor()` factorizar polinomios\n",
        "* `sympy.simplify()` para simplificar\n",
        "* `sympy.solve()` para una expresión igual a 0, resuelve para una variable"
      ],
      "metadata": {
        "id": "c_pMGie2o07P"
      }
    },
    {
      "cell_type": "code",
      "source": [
        "# Ejemplo de expansión\n",
        "expr = (x - 1)*(3*x + 2)\n",
        "expr.expand()"
      ],
      "metadata": {
        "id": "Y4cnmaayohyK"
      },
      "execution_count": null,
      "outputs": []
    },
    {
      "cell_type": "code",
      "source": [
        "# Factorizando \n",
        "sympy.factor(3*x**2 - x - 2)"
      ],
      "metadata": {
        "id": "kph87l37pZEo"
      },
      "execution_count": null,
      "outputs": []
    },
    {
      "cell_type": "code",
      "source": [
        "# Simplificando (Tiene sus complicaciones)\n",
        "expr2 = 3*x**2 - 4*x - 15 / (x - 3)\n",
        "expr2"
      ],
      "metadata": {
        "id": "kV_HmLxlpi5Z"
      },
      "execution_count": null,
      "outputs": []
    },
    {
      "cell_type": "code",
      "source": [
        "expr2.simplify()"
      ],
      "metadata": {
        "id": "bBWq4FlOppXd"
      },
      "execution_count": null,
      "outputs": []
    },
    {
      "cell_type": "code",
      "source": [
        "sympy.simplify((3*x**2 - 4*x - 15) / (x - 3))"
      ],
      "metadata": {
        "id": "b6sII7K2p3AG"
      },
      "execution_count": null,
      "outputs": []
    },
    {
      "cell_type": "code",
      "source": [
        "# Resolver ecuaciones\n",
        "sympy.solve(x**2 + 1.4*x - 5.76)"
      ],
      "metadata": {
        "id": "RR6BSdhyqGS6"
      },
      "execution_count": null,
      "outputs": []
    },
    {
      "cell_type": "markdown",
      "source": [
        "## Un ejemplo: Equilibrio de una ecuación"
      ],
      "metadata": {
        "id": "6T1I0Iaxqw-F"
      }
    },
    {
      "cell_type": "markdown",
      "source": [
        "Vamos a resolver un problema de equilibrio usando el método de inicio, cambio y equilibrio (ICE). Uno de los últimos pasos consiste en resolver una ecuación polinomial.Veamos un ejemplo:\n",
        "\n",
        "\n",
        "|     | 2 NH3 | $\\rightleftharpoons$ | 3 H2 (g) | + | N2 (g) | \n",
        "|:--: | :--:  |:-:|:-------: |:--:|:-----|\n",
        "| Inicio | 0.60 M |  | 0.60 M |  | 0.80 M |\n",
        "| Cambio, $\\Delta$| -2x |  |  +3x   |  |  +x    |\n",
        "| Equilibrio | 0.60 - 2x | | 0.60 + 3x |  | 0.80 + x |\n",
        "\n",
        "\n",
        "\n",
        "$$ K_c = 3.44 = \\frac{[N_2][H_2]^3}{[NH_3]^2} = \\frac{(0.80 + x)(0.60 + 3x)^3}{(0.60 - 2x)^2}  $$\n"
      ],
      "metadata": {
        "id": "wyUQguAhq8B7"
      }
    },
    {
      "cell_type": "code",
      "source": [
        "# Primero, expandimos el lado derecho de la ecuación:\n",
        "expr = (0.80 + x) * (0.60 + 3*x)**3 / (0.60 - 2*x)**2"
      ],
      "metadata": {
        "id": "MtilMKOdqcWs"
      },
      "execution_count": null,
      "outputs": []
    },
    {
      "cell_type": "code",
      "source": [
        "sympy.expand(expr)"
      ],
      "metadata": {
        "id": "1kfawgS8rpff"
      },
      "execution_count": null,
      "outputs": []
    },
    {
      "cell_type": "code",
      "source": [
        "# Simplificamos\n",
        "sympy.simplify(sympy.expand(expr))"
      ],
      "metadata": {
        "id": "UQQpf4gSrrVi"
      },
      "execution_count": null,
      "outputs": []
    },
    {
      "cell_type": "code",
      "source": [
        "# Resolvemos (Hay que igualar a 0)\n",
        "sympy.solve(expr - 3.44)"
      ],
      "metadata": {
        "id": "mVC8Q8rOrxEq"
      },
      "execution_count": null,
      "outputs": []
    },
    {
      "cell_type": "markdown",
      "source": [
        "Solo una solución tiene sentido."
      ],
      "metadata": {
        "id": "Ra6UBQXesGuX"
      }
    }
  ]
}